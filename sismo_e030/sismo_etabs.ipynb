<<<<<<< HEAD

=======
>>>>>>> dev
{
 "cells": [
  {
   "cell_type": "markdown",
   "metadata": {},
   "source": [
    "# Análisis Sísmico"
   ]
  },
  {
   "cell_type": "code",
<<<<<<< HEAD
   "execution_count": 8,
=======
   "execution_count": 33,
>>>>>>> dev
   "metadata": {},
   "outputs": [
    {
     "name": "stdout",
     "output_type": "stream",
     "text": [
      "The autoreload extension is already loaded. To reload it, use:\n",
      "  %reload_ext autoreload\n"
     ]
    }
   ],
   "source": [
    "#Importar las librerías necesarias\n",
    "%load_ext autoreload\n",
    "%autoreload 2\n",
    "import os\n",
    "import sys\n",
    "sys.path.append(os.getcwd()+'\\\\..')\n",
    "from lib import etabs_utils as etb\n",
    "from lib import sismo_utils as sis\n",
    "#from mem import sismo_mem as smem\n",
    "from ipywidgets import widgets\n",
    "from IPython.display import display"
   ]
  },
  {
   "cell_type": "code",
<<<<<<< HEAD
   "execution_count": 9,
   "metadata": {},
   "outputs": [],
   "source": [
    "#!pip install -U ipywidgets==7.7.1\n",
    "#!jupyter nbextension enable --py widgetsnbextension"
   ]
  },
  {
   "cell_type": "code",
   "execution_count": 10,
=======
   "execution_count": 34,
>>>>>>> dev
   "metadata": {},
   "outputs": [],
   "source": [
    "_,SapModel = etb.connect_to_etabs()"
   ]
  },
  {
   "cell_type": "code",
<<<<<<< HEAD
   "execution_count": 11,
=======
   "execution_count": 35,
>>>>>>> dev
   "metadata": {},
   "outputs": [],
   "source": [
    "sismo = sis.sismo_e30()"
   ]
  },
  {
   "cell_type": "markdown",
   "metadata": {},
   "source": [
    "# Parámetros de Sitio\n",
    "\n",
    "## Zonificación\n",
    "![Factor de Zonifiación](./factor_zona.png)"
   ]
  },
  {
   "cell_type": "markdown",
   "metadata": {},
   "source": [
    "## Factor de Suelo\n",
    "![Factor de Suelo](./factor_suelo.png)\n"
   ]
  },
  {
   "cell_type": "markdown",
   "metadata": {},
   "source": [
    "## Periodos del suelo\n",
    "![Periodos del Suelo](./periodos_suelo.png)"
   ]
  },
  {
   "cell_type": "markdown",
   "metadata": {},
   "source": [
    "## Sistema Estructural\n",
    "![Sistema Estructural](./sistemas_estructurales.png)"
   ]
  },
  {
   "cell_type": "markdown",
   "metadata": {},
   "source": [
    "## Factor de Amplificación sísmica\n",
    "![Factor de Amplificacion Sísmica](./amplificacion_sismica.png)"
   ]
  },
  {
   "cell_type": "markdown",
   "metadata": {},
   "source": [
    "## Factor de Importancia\n",
    "![Factor de Importancia](./factor_importancia.png)"
   ]
  },
  {
   "cell_type": "code",
<<<<<<< HEAD
   "execution_count": 12,
=======
   "execution_count": 36,
>>>>>>> dev
   "metadata": {},
   "outputs": [
    {
     "data": {
      "application/vnd.jupyter.widget-view+json": {
<<<<<<< HEAD
       "model_id": "abe8e24ed4a84213b45e420349b53404",
=======
       "model_id": "d0e36bdb61a443a28db82467ddaf494a",
>>>>>>> dev
       "version_major": 2,
       "version_minor": 0
      },
      "text/plain": [
<<<<<<< HEAD
       "VBox(children=(Dropdown(description='Factor Zona', index=2, options=('1', '2', '3', '4'), style=DescriptionSty…"
=======
       "VBox(children=(Dropdown(description='Factor Zona', index=1, options=('1', '2', '3', '4'), style=DescriptionSty…"
>>>>>>> dev
      ]
     },
     "metadata": {},
     "output_type": "display_data"
    }
   ],
   "source": [
    "sismo.parametros_e30()"
   ]
  },
  {
   "cell_type": "markdown",
   "metadata": {},
   "source": [
    "# Irregularidades"
   ]
  },
  {
   "cell_type": "code",
<<<<<<< HEAD
   "execution_count": 13,
=======
   "execution_count": 37,
>>>>>>> dev
   "metadata": {},
   "outputs": [
    {
     "data": {
      "application/vnd.jupyter.widget-view+json": {
<<<<<<< HEAD
       "model_id": "1df0eb63500c4d269d0ee7be63a63d81",
=======
       "model_id": "2599cfecb2b64de4a89f70bc60f0c2a0",
>>>>>>> dev
       "version_major": 2,
       "version_minor": 0
      },
      "text/plain": [
       "HBox(children=(VBox(children=(HTML(value='<b>Irregularidad en Altura</b>'), Checkbox(value=False, description=…"
      ]
     },
     "metadata": {},
     "output_type": "display_data"
    }
   ],
   "source": [
    "sismo.irregularidades_e30()"
   ]
  },
  {
   "cell_type": "markdown",
   "metadata": {},
   "source": [
    "# Parámetros Sísmicos"
   ]
  },
  {
   "cell_type": "code",
<<<<<<< HEAD
   "execution_count": 14,
=======
   "execution_count": 38,
>>>>>>> dev
   "metadata": {},
   "outputs": [
    {
     "name": "stdout",
     "output_type": "stream",
     "text": [
      "\n",
      "\u001b[1mParámetros de sitio:\u001b[0m\n",
      "Factor de zona: \n",
<<<<<<< HEAD
      "    Z=0.35\n",
      "Factor de Importancia: \n",
      "    U=1.30\n",
      "Factor de Suelo: \n",
      "    S=1.20\n",
      "Periodos del Suelo: \n",
      "    Tp=1.00\n",
      "    Tl=1.60\n",
      "Factor Básico de Reducción:\n",
      "    Rox=5.00\n",
      "    Roy=5.00\n",
      "Irregularidad en planta:\n",
      "    Ipx=0.60\n",
      "    Ipy=0.60\n",
      "Irregularidad en altura:\n",
      "    Iax=0.90\n",
      "    Iay=0.60\n",
      "Factor de Reducción:\n",
      "    Rx=2.70\n",
      "    Ry=2.70\n",
=======
      "    Z=0.25\n",
      "Factor de Importancia: \n",
      "    U=1.50\n",
      "Factor de Suelo: \n",
      "    S=1.00\n",
      "Periodos del Suelo: \n",
      "    Tp=0.40\n",
      "    Tl=2.50\n",
      "Factor Básico de Reducción:\n",
      "    Rox=7.00\n",
      "    Roy=7.00\n",
      "Irregularidad en planta:\n",
      "    Ipx=1.00\n",
      "    Ipy=1.00\n",
      "Irregularidad en altura:\n",
      "    Iax=1.00\n",
      "    Iay=1.00\n",
      "Factor de Reducción:\n",
      "    Rx=7.00\n",
      "    Ry=7.00\n",
>>>>>>> dev
      "\n"
     ]
    }
   ],
   "source": [
    "sismo.show_params()"
   ]
  },
  {
   "cell_type": "code",
<<<<<<< HEAD
   "execution_count": 15,
=======
   "execution_count": 39,
>>>>>>> dev
   "metadata": {},
   "outputs": [
    {
     "name": "stdout",
     "output_type": "stream",
     "text": [
      "\n",
      "Análisis Modal:\n",
<<<<<<< HEAD
      "Masa Participativa X: 0.95\n",
      "Masa Participativa Y: 0.86\n",
      "---Aumentar Grados de Libertad 0.86 < 0.9\n",
      "Periodo y deformaxión X: Tx=0.042, Ux=0.000\n",
      "Periodo y deformaxión Y: Ty=0.032, Uy=0.004\n",
      "Factor de Reduccion con Irregularidades: R=2.7\n",
      "C en X: 2.50\n",
      "C en Y: 2.50\n",
      "\n",
      "Coeficiente de sismo estático X: 0.506\n",
      "Coeficiente de sismo estático Y: 0.506\n",
=======
      "Masa Participativa X: 1.00\n",
      "Masa Participativa Y: 1.00\n",
      "Periodo y deformaxión X: Tx=0.029, Ux=0.000\n",
      "Periodo y deformaxión Y: Ty=0.225, Uy=0.000\n",
      "Factor de Reduccion con Irregularidades: R=7.0\n",
      "C en X: 2.50\n",
      "C en Y: 2.50\n",
      "\n",
      "Coeficiente de sismo estático X: 0.134\n",
      "Coeficiente de sismo estático Y: 0.134\n",
>>>>>>> dev
      "Exponente de altura X: 1.00\n",
      "Exponente de altura Y: 1.00\n"
     ]
    }
   ],
   "source": [
    "sismo.analisis_sismo(SapModel)"
   ]
  },
  {
   "cell_type": "markdown",
   "metadata": {},
   "source": [
    "## Revisión por Piso Blando"
   ]
  },
  {
   "cell_type": "code",
<<<<<<< HEAD
   "execution_count": null,
=======
   "execution_count": 40,
>>>>>>> dev
   "metadata": {},
   "outputs": [
    {
     "data": {
      "application/vnd.jupyter.widget-view+json": {
<<<<<<< HEAD
       "model_id": "48e5926035904a24a2167d6cd45d77c2",
=======
       "model_id": "71c2aab172074f79a0859fe024bb5bb7",
>>>>>>> dev
       "version_major": 2,
       "version_minor": 0
      },
      "text/plain": [
<<<<<<< HEAD
       "Dropdown(description='Filtro', index=1, options=('Sy Min', 'SDy Max', 'Sx Max', 'SDx Max', 'Sy Max', 'Sx Min',…"
=======
       "Dropdown(description='Filtro', index=44, options=('Derivas Min', 'Servicio', 'R18 Min', 'R13 Max', 'R14 Min', …"
>>>>>>> dev
      ]
     },
     "metadata": {},
     "output_type": "display_data"
    },
    {
     "data": {
      "text/html": [
       "<div>\n",
       "<style scoped>\n",
       "    .dataframe tbody tr th:only-of-type {\n",
       "        vertical-align: middle;\n",
       "    }\n",
       "\n",
       "    .dataframe tbody tr th {\n",
       "        vertical-align: top;\n",
       "    }\n",
       "\n",
       "    .dataframe thead th {\n",
       "        text-align: right;\n",
       "    }\n",
       "</style>\n",
       "<table border=\"1\" class=\"dataframe\">\n",
       "  <thead>\n",
       "    <tr style=\"text-align: right;\">\n",
       "      <th></th>\n",
       "      <th>Story</th>\n",
       "      <th>OutputCase</th>\n",
       "      <th>UX</th>\n",
       "      <th>UY</th>\n",
<<<<<<< HEAD
       "      <th>URX</th>\n",
       "      <th>URY</th>\n",
=======
       "      <th>ΔUX</th>\n",
       "      <th>ΔUY</th>\n",
>>>>>>> dev
       "      <th>VX</th>\n",
       "      <th>VY</th>\n",
       "      <th>lat_rig(k)</th>\n",
       "      <th>0.7_prev_k</th>\n",
       "      <th>0.8k_prom</th>\n",
       "      <th>is_reg</th>\n",
       "    </tr>\n",
       "  </thead>\n",
       "  <tbody>\n",
       "    <tr>\n",
<<<<<<< HEAD
       "      <th>8</th>\n",
       "      <td>Story8</td>\n",
       "      <td>SDy Max</td>\n",
       "      <td>1.034</td>\n",
       "      <td>3.22</td>\n",
       "      <td>0.154</td>\n",
       "      <td>0.471</td>\n",
       "      <td>9340.76</td>\n",
       "      <td>188847.06</td>\n",
       "      <td>4.616035e+05</td>\n",
       "      <td>0.000000e+00</td>\n",
       "      <td>0.000000e+00</td>\n",
       "      <td>Regular</td>\n",
       "    </tr>\n",
       "    <tr>\n",
       "      <th>9</th>\n",
       "      <td>Story7</td>\n",
       "      <td>SDy Max</td>\n",
       "      <td>0.88</td>\n",
       "      <td>2.749</td>\n",
       "      <td>0.122</td>\n",
       "      <td>0.495</td>\n",
       "      <td>17689.01</td>\n",
       "      <td>385502.89</td>\n",
       "      <td>9.237856e+05</td>\n",
       "      <td>3.231224e+05</td>\n",
       "      <td>0.000000e+00</td>\n",
       "      <td>Regular</td>\n",
       "    </tr>\n",
       "    <tr>\n",
       "      <th>10</th>\n",
       "      <td>Story6</td>\n",
       "      <td>SDy Max</td>\n",
       "      <td>0.758</td>\n",
       "      <td>2.254</td>\n",
       "      <td>0.140</td>\n",
       "      <td>0.501</td>\n",
       "      <td>24032.76</td>\n",
       "      <td>535326.83</td>\n",
       "      <td>1.240179e+06</td>\n",
       "      <td>6.466499e+05</td>\n",
       "      <td>0.000000e+00</td>\n",
       "      <td>Regular</td>\n",
       "    </tr>\n",
       "    <tr>\n",
       "      <th>11</th>\n",
       "      <td>Story5</td>\n",
       "      <td>SDy Max</td>\n",
       "      <td>0.618</td>\n",
       "      <td>1.753</td>\n",
       "      <td>0.144</td>\n",
       "      <td>0.490</td>\n",
       "      <td>29158.11</td>\n",
       "      <td>649676.53</td>\n",
       "      <td>1.528357e+06</td>\n",
       "      <td>8.681254e+05</td>\n",
       "      <td>7.001515e+05</td>\n",
       "      <td>Regular</td>\n",
       "    </tr>\n",
       "    <tr>\n",
       "      <th>12</th>\n",
       "      <td>Story4</td>\n",
       "      <td>SDy Max</td>\n",
       "      <td>0.474</td>\n",
       "      <td>1.263</td>\n",
       "      <td>0.160</td>\n",
       "      <td>0.456</td>\n",
       "      <td>33980.75</td>\n",
       "      <td>743392.21</td>\n",
       "      <td>1.842626e+06</td>\n",
       "      <td>1.069850e+06</td>\n",
       "      <td>9.846192e+05</td>\n",
       "      <td>Regular</td>\n",
       "    </tr>\n",
       "    <tr>\n",
       "      <th>13</th>\n",
       "      <td>Story3</td>\n",
       "      <td>SDy Max</td>\n",
       "      <td>0.314</td>\n",
       "      <td>0.807</td>\n",
       "      <td>0.150</td>\n",
       "      <td>0.394</td>\n",
       "      <td>38030.53</td>\n",
       "      <td>814142.53</td>\n",
       "      <td>2.319888e+06</td>\n",
       "      <td>1.289838e+06</td>\n",
       "      <td>1.229643e+06</td>\n",
       "      <td>Regular</td>\n",
       "    </tr>\n",
       "    <tr>\n",
       "      <th>14</th>\n",
       "      <td>Story2</td>\n",
       "      <td>SDy Max</td>\n",
       "      <td>0.164</td>\n",
       "      <td>0.413</td>\n",
       "      <td>0.107</td>\n",
       "      <td>0.296</td>\n",
       "      <td>40736.49</td>\n",
       "      <td>857879.18</td>\n",
       "      <td>3.278955e+06</td>\n",
       "      <td>1.623922e+06</td>\n",
       "      <td>1.517566e+06</td>\n",
       "      <td>Regular</td>\n",
       "    </tr>\n",
       "    <tr>\n",
       "      <th>15</th>\n",
       "      <td>Story1</td>\n",
       "      <td>SDy Max</td>\n",
       "      <td>0.057</td>\n",
       "      <td>0.117</td>\n",
       "      <td>0.057</td>\n",
       "      <td>0.117</td>\n",
       "      <td>41484.54</td>\n",
       "      <td>869359.9</td>\n",
       "      <td>8.158225e+06</td>\n",
       "      <td>2.295269e+06</td>\n",
       "      <td>1.984392e+06</td>\n",
=======
       "      <th>0</th>\n",
       "      <td>Story3</td>\n",
       "      <td>Derivas Min</td>\n",
       "      <td>-57.629</td>\n",
       "      <td>-32.8</td>\n",
       "      <td>-16.545</td>\n",
       "      <td>-8.919</td>\n",
       "      <td>-1656522.79</td>\n",
       "      <td>-1641502.87</td>\n",
       "      <td>184045.618343</td>\n",
       "      <td>0.000000</td>\n",
       "      <td>0.0</td>\n",
       "      <td>Regular</td>\n",
       "    </tr>\n",
       "    <tr>\n",
       "      <th>1</th>\n",
       "      <td>Story2</td>\n",
       "      <td>Derivas Min</td>\n",
       "      <td>-41.084</td>\n",
       "      <td>-23.881</td>\n",
       "      <td>-20.616</td>\n",
       "      <td>-11.790</td>\n",
       "      <td>-3277846.08</td>\n",
       "      <td>-3288901.43</td>\n",
       "      <td>278956.864292</td>\n",
       "      <td>128831.932840</td>\n",
       "      <td>0.0</td>\n",
       "      <td>Regular</td>\n",
       "    </tr>\n",
       "    <tr>\n",
       "      <th>2</th>\n",
       "      <td>Story1</td>\n",
       "      <td>Derivas Min</td>\n",
       "      <td>-20.468</td>\n",
       "      <td>-12.091</td>\n",
       "      <td>-20.468</td>\n",
       "      <td>-12.091</td>\n",
       "      <td>-4201544.58</td>\n",
       "      <td>-4233978.69</td>\n",
       "      <td>350176.055744</td>\n",
       "      <td>195269.805004</td>\n",
       "      <td>0.0</td>\n",
       "      <td>Regular</td>\n",
       "    </tr>\n",
       "    <tr>\n",
       "      <th>3</th>\n",
       "      <td>Story3</td>\n",
       "      <td>Servicio</td>\n",
       "      <td>-0.004</td>\n",
       "      <td>-0.009</td>\n",
       "      <td>-0.002</td>\n",
       "      <td>-0.002</td>\n",
       "      <td>0</td>\n",
       "      <td>0</td>\n",
       "      <td>0.000000</td>\n",
       "      <td>0.000000</td>\n",
       "      <td>0.0</td>\n",
       "      <td>Irregular</td>\n",
       "    </tr>\n",
       "    <tr>\n",
       "      <th>4</th>\n",
       "      <td>Story2</td>\n",
       "      <td>Servicio</td>\n",
       "      <td>-0.002</td>\n",
       "      <td>-0.007</td>\n",
       "      <td>-0.001</td>\n",
       "      <td>-0.004</td>\n",
       "      <td>0</td>\n",
       "      <td>0</td>\n",
       "      <td>0.000000</td>\n",
       "      <td>0.000000</td>\n",
       "      <td>0.0</td>\n",
       "      <td>Irregular</td>\n",
       "    </tr>\n",
       "    <tr>\n",
       "      <th>...</th>\n",
       "      <td>...</td>\n",
       "      <td>...</td>\n",
       "      <td>...</td>\n",
       "      <td>...</td>\n",
       "      <td>...</td>\n",
       "      <td>...</td>\n",
       "      <td>...</td>\n",
       "      <td>...</td>\n",
       "      <td>...</td>\n",
       "      <td>...</td>\n",
       "      <td>...</td>\n",
       "      <td>...</td>\n",
       "    </tr>\n",
       "    <tr>\n",
       "      <th>127</th>\n",
       "      <td>Story2</td>\n",
       "      <td>ER Min</td>\n",
       "      <td>-9.133</td>\n",
       "      <td>-4.573</td>\n",
       "      <td>-4.583</td>\n",
       "      <td>-2.260</td>\n",
       "      <td>-728410.24</td>\n",
       "      <td>-626457.42</td>\n",
       "      <td>277193.548673</td>\n",
       "      <td>128292.524619</td>\n",
       "      <td>0.0</td>\n",
       "      <td>Regular</td>\n",
       "    </tr>\n",
       "    <tr>\n",
       "      <th>128</th>\n",
       "      <td>Story1</td>\n",
       "      <td>ER Min</td>\n",
       "      <td>-4.55</td>\n",
       "      <td>-2.313</td>\n",
       "      <td>-4.550</td>\n",
       "      <td>-2.313</td>\n",
       "      <td>-933676.57</td>\n",
       "      <td>-806472.13</td>\n",
       "      <td>348669.316904</td>\n",
       "      <td>194035.484071</td>\n",
       "      <td>0.0</td>\n",
       "      <td>Regular</td>\n",
       "    </tr>\n",
       "    <tr>\n",
       "      <th>129</th>\n",
       "      <td>Story3</td>\n",
       "      <td>R17 Max</td>\n",
       "      <td>12.802</td>\n",
       "      <td>1.885</td>\n",
       "      <td>3.675</td>\n",
       "      <td>0.511</td>\n",
       "      <td>368116.18</td>\n",
       "      <td>93800.16</td>\n",
       "      <td>183561.956947</td>\n",
       "      <td>0.000000</td>\n",
       "      <td>0.0</td>\n",
       "      <td>Regular</td>\n",
       "    </tr>\n",
       "    <tr>\n",
       "      <th>130</th>\n",
       "      <td>Story2</td>\n",
       "      <td>R17 Max</td>\n",
       "      <td>9.127</td>\n",
       "      <td>1.374</td>\n",
       "      <td>4.580</td>\n",
       "      <td>0.680</td>\n",
       "      <td>728410.24</td>\n",
       "      <td>187937.22</td>\n",
       "      <td>276378.264706</td>\n",
       "      <td>128493.369863</td>\n",
       "      <td>0.0</td>\n",
       "      <td>Regular</td>\n",
       "    </tr>\n",
       "    <tr>\n",
       "      <th>131</th>\n",
       "      <td>Story1</td>\n",
       "      <td>R17 Max</td>\n",
       "      <td>4.547</td>\n",
       "      <td>0.694</td>\n",
       "      <td>4.547</td>\n",
       "      <td>0.694</td>\n",
       "      <td>933676.57</td>\n",
       "      <td>241941.64</td>\n",
       "      <td>348619.077810</td>\n",
       "      <td>193464.785294</td>\n",
       "      <td>0.0</td>\n",
>>>>>>> dev
       "      <td>Regular</td>\n",
       "    </tr>\n",
       "  </tbody>\n",
       "</table>\n",
<<<<<<< HEAD
       "</div>"
      ],
      "text/plain": [
       "     Story OutputCase     UX     UY    URX    URY        VX         VY  \\\n",
       "8   Story8    SDy Max  1.034   3.22  0.154  0.471   9340.76  188847.06   \n",
       "9   Story7    SDy Max   0.88  2.749  0.122  0.495  17689.01  385502.89   \n",
       "10  Story6    SDy Max  0.758  2.254  0.140  0.501  24032.76  535326.83   \n",
       "11  Story5    SDy Max  0.618  1.753  0.144  0.490  29158.11  649676.53   \n",
       "12  Story4    SDy Max  0.474  1.263  0.160  0.456  33980.75  743392.21   \n",
       "13  Story3    SDy Max  0.314  0.807  0.150  0.394  38030.53  814142.53   \n",
       "14  Story2    SDy Max  0.164  0.413  0.107  0.296  40736.49  857879.18   \n",
       "15  Story1    SDy Max  0.057  0.117  0.057  0.117  41484.54   869359.9   \n",
       "\n",
       "      lat_rig(k)    0.7_prev_k     0.8k_prom   is_reg  \n",
       "8   4.616035e+05  0.000000e+00  0.000000e+00  Regular  \n",
       "9   9.237856e+05  3.231224e+05  0.000000e+00  Regular  \n",
       "10  1.240179e+06  6.466499e+05  0.000000e+00  Regular  \n",
       "11  1.528357e+06  8.681254e+05  7.001515e+05  Regular  \n",
       "12  1.842626e+06  1.069850e+06  9.846192e+05  Regular  \n",
       "13  2.319888e+06  1.289838e+06  1.229643e+06  Regular  \n",
       "14  3.278955e+06  1.623922e+06  1.517566e+06  Regular  \n",
       "15  8.158225e+06  2.295269e+06  1.984392e+06  Regular  "
=======
       "<p>132 rows × 12 columns</p>\n",
       "</div>"
      ],
      "text/plain": [
       "      Story   OutputCase       UX       UY     ΔUX     ΔUY           VX  \\\n",
       "0    Story3  Derivas Min  -57.629    -32.8 -16.545  -8.919  -1656522.79   \n",
       "1    Story2  Derivas Min  -41.084  -23.881 -20.616 -11.790  -3277846.08   \n",
       "2    Story1  Derivas Min  -20.468  -12.091 -20.468 -12.091  -4201544.58   \n",
       "3    Story3     Servicio   -0.004   -0.009  -0.002  -0.002            0   \n",
       "4    Story2     Servicio   -0.002   -0.007  -0.001  -0.004            0   \n",
       "..      ...          ...      ...      ...     ...     ...          ...   \n",
       "127  Story2       ER Min   -9.133   -4.573  -4.583  -2.260   -728410.24   \n",
       "128  Story1       ER Min    -4.55   -2.313  -4.550  -2.313   -933676.57   \n",
       "129  Story3      R17 Max   12.802    1.885   3.675   0.511    368116.18   \n",
       "130  Story2      R17 Max    9.127    1.374   4.580   0.680    728410.24   \n",
       "131  Story1      R17 Max    4.547    0.694   4.547   0.694    933676.57   \n",
       "\n",
       "              VY     lat_rig(k)     0.7_prev_k  0.8k_prom     is_reg  \n",
       "0    -1641502.87  184045.618343       0.000000        0.0    Regular  \n",
       "1    -3288901.43  278956.864292  128831.932840        0.0    Regular  \n",
       "2    -4233978.69  350176.055744  195269.805004        0.0    Regular  \n",
       "3              0       0.000000       0.000000        0.0  Irregular  \n",
       "4              0       0.000000       0.000000        0.0  Irregular  \n",
       "..           ...            ...            ...        ...        ...  \n",
       "127   -626457.42  277193.548673  128292.524619        0.0    Regular  \n",
       "128   -806472.13  348669.316904  194035.484071        0.0    Regular  \n",
       "129     93800.16  183561.956947       0.000000        0.0    Regular  \n",
       "130    187937.22  276378.264706  128493.369863        0.0    Regular  \n",
       "131    241941.64  348619.077810  193464.785294        0.0    Regular  \n",
       "\n",
       "[132 rows x 12 columns]"
>>>>>>> dev
      ]
     },
     "metadata": {},
     "output_type": "display_data"
    }
   ],
   "source": [
    "sis.show_table(sismo.piso_blando_table)"
   ]
  },
  {
<<<<<<< HEAD
=======
   "cell_type": "code",
   "execution_count": 41,
   "metadata": {},
   "outputs": [],
   "source": [
    "a = sismo.piso_blando_table"
   ]
  },
  {
>>>>>>> dev
   "cell_type": "markdown",
   "metadata": {},
   "source": [
    "## Revisión por Irregularidad de Masa"
   ]
  },
  {
   "cell_type": "code",
<<<<<<< HEAD
   "execution_count": 17,
=======
   "execution_count": 42,
>>>>>>> dev
   "metadata": {},
   "outputs": [
    {
     "data": {
      "text/html": [
       "<div>\n",
       "<style scoped>\n",
       "    .dataframe tbody tr th:only-of-type {\n",
       "        vertical-align: middle;\n",
       "    }\n",
       "\n",
       "    .dataframe tbody tr th {\n",
       "        vertical-align: top;\n",
       "    }\n",
       "\n",
       "    .dataframe thead th {\n",
       "        text-align: right;\n",
       "    }\n",
       "</style>\n",
       "<table border=\"1\" class=\"dataframe\">\n",
       "  <thead>\n",
       "    <tr style=\"text-align: right;\">\n",
       "      <th></th>\n",
       "      <th>Story</th>\n",
       "      <th>Mass</th>\n",
<<<<<<< HEAD
       "      <th>1.5_inf_mass</th>\n",
       "      <th>1.5_sup_mass</th>\n",
       "      <th>story_type</th>\n",
       "      <th>is_reg</th>\n",
=======
       "      <th>1.5 Mass</th>\n",
       "      <th>story_type</th>\n",
       "      <th>is_regular</th>\n",
>>>>>>> dev
       "    </tr>\n",
       "  </thead>\n",
       "  <tbody>\n",
       "    <tr>\n",
       "      <th>0</th>\n",
<<<<<<< HEAD
       "      <td>Story8</td>\n",
       "      <td>65.3981</td>\n",
       "      <td></td>\n",
=======
       "      <td>Story3</td>\n",
       "      <td>90.1284</td>\n",
>>>>>>> dev
       "      <td></td>\n",
       "      <td>Azotea</td>\n",
       "      <td>Regular</td>\n",
       "    </tr>\n",
       "    <tr>\n",
       "      <th>1</th>\n",
<<<<<<< HEAD
       "      <td>Story7</td>\n",
       "      <td>85.8431</td>\n",
       "      <td>128.5221</td>\n",
       "      <td></td>\n",
       "      <td>Piso</td>\n",
       "      <td>Regular</td>\n",
       "    </tr>\n",
       "    <tr>\n",
       "      <th>2</th>\n",
       "      <td>Story6</td>\n",
       "      <td>85.6814</td>\n",
       "      <td>128.5509</td>\n",
       "      <td>128.76465</td>\n",
       "      <td>Piso</td>\n",
       "      <td>Regular</td>\n",
       "    </tr>\n",
       "    <tr>\n",
       "      <th>3</th>\n",
       "      <td>Story5</td>\n",
       "      <td>85.7006</td>\n",
       "      <td>134.7939</td>\n",
       "      <td>128.5221</td>\n",
       "      <td>Piso</td>\n",
       "      <td>Regular</td>\n",
       "    </tr>\n",
       "    <tr>\n",
       "      <th>4</th>\n",
       "      <td>Story4</td>\n",
       "      <td>89.8626</td>\n",
       "      <td>134.7939</td>\n",
       "      <td>128.5509</td>\n",
       "      <td>Piso</td>\n",
       "      <td>Regular</td>\n",
       "    </tr>\n",
       "    <tr>\n",
       "      <th>5</th>\n",
       "      <td>Story3</td>\n",
       "      <td>89.8626</td>\n",
       "      <td>134.7939</td>\n",
       "      <td>134.7939</td>\n",
       "      <td>Piso</td>\n",
       "      <td>Regular</td>\n",
       "    </tr>\n",
       "    <tr>\n",
       "      <th>6</th>\n",
       "      <td>Story2</td>\n",
       "      <td>89.8626</td>\n",
       "      <td>109.3485</td>\n",
       "      <td>134.7939</td>\n",
=======
       "      <td>Story2</td>\n",
       "      <td>135.8175</td>\n",
       "      <td>203.72625</td>\n",
>>>>>>> dev
       "      <td>Piso</td>\n",
       "      <td>Regular</td>\n",
       "    </tr>\n",
       "    <tr>\n",
<<<<<<< HEAD
       "      <th>7</th>\n",
       "      <td>Story1</td>\n",
       "      <td>72.899</td>\n",
       "      <td>52.36965</td>\n",
       "      <td>134.7939</td>\n",
       "      <td>Piso</td>\n",
       "      <td>Irregular</td>\n",
       "    </tr>\n",
       "    <tr>\n",
       "      <th>8</th>\n",
       "      <td>NT</td>\n",
       "      <td>34.9131</td>\n",
       "      <td></td>\n",
       "      <td>109.3485</td>\n",
=======
       "      <th>2</th>\n",
       "      <td>Story1</td>\n",
       "      <td>143.2935</td>\n",
       "      <td>214.94025</td>\n",
>>>>>>> dev
       "      <td>Piso</td>\n",
       "      <td>Regular</td>\n",
       "    </tr>\n",
       "    <tr>\n",
<<<<<<< HEAD
       "      <th>9</th>\n",
       "      <td>Base</td>\n",
       "      <td>38.4194</td>\n",
       "      <td></td>\n",
=======
       "      <th>3</th>\n",
       "      <td>Base</td>\n",
       "      <td>26.7000</td>\n",
>>>>>>> dev
       "      <td></td>\n",
       "      <td>Sotano</td>\n",
       "      <td>Regular</td>\n",
       "    </tr>\n",
       "  </tbody>\n",
       "</table>\n",
       "</div>"
      ],
      "text/plain": [
<<<<<<< HEAD
       "    Story     Mass 1.5_inf_mass 1.5_sup_mass story_type     is_reg\n",
       "0  Story8  65.3981                               Azotea    Regular\n",
       "1  Story7  85.8431     128.5221                    Piso    Regular\n",
       "2  Story6  85.6814     128.5509    128.76465       Piso    Regular\n",
       "3  Story5  85.7006     134.7939     128.5221       Piso    Regular\n",
       "4  Story4  89.8626     134.7939     128.5509       Piso    Regular\n",
       "5  Story3  89.8626     134.7939     134.7939       Piso    Regular\n",
       "6  Story2  89.8626     109.3485     134.7939       Piso    Regular\n",
       "7  Story1   72.899     52.36965     134.7939       Piso  Irregular\n",
       "8      NT  34.9131                  109.3485       Piso    Regular\n",
       "9    Base  38.4194                               Sotano    Regular"
      ]
     },
     "execution_count": 17,
=======
       "    Story      Mass   1.5 Mass story_type is_regular\n",
       "0  Story3   90.1284                Azotea    Regular\n",
       "1  Story2  135.8175  203.72625       Piso    Regular\n",
       "2  Story1  143.2935  214.94025       Piso    Regular\n",
       "3    Base   26.7000                Sotano    Regular"
      ]
     },
     "execution_count": 42,
>>>>>>> dev
     "metadata": {},
     "output_type": "execute_result"
    }
   ],
   "source": [
    "sismo.rev_masa_table"
   ]
  },
  {
   "cell_type": "markdown",
   "metadata": {},
   "source": [
    "## Revisión de torsión"
   ]
  },
  {
   "cell_type": "code",
<<<<<<< HEAD
   "execution_count": 18,
=======
   "execution_count": 43,
>>>>>>> dev
   "metadata": {},
   "outputs": [
    {
     "data": {
      "application/vnd.jupyter.widget-view+json": {
<<<<<<< HEAD
       "model_id": "98119595753c49abb25847738fe350ce",
=======
       "model_id": "6703650ed18c402f9ff9cb86a205828f",
>>>>>>> dev
       "version_major": 2,
       "version_minor": 0
      },
      "text/plain": [
<<<<<<< HEAD
       "Dropdown(description='Filtro', index=6, options=('Sx Max', 'Sx Min', 'Sy Max', 'Sy Min', 'SDx Max', 'SDy Max',…"
=======
       "Dropdown(description='Filtro', index=39, options=(nan, 'SDx Max', 'SDy Max', 'Derivas Max', 'Derivas Min', 'R2…"
>>>>>>> dev
      ]
     },
     "metadata": {},
     "output_type": "display_data"
    },
    {
     "data": {
      "text/html": [
       "<div>\n",
       "<style scoped>\n",
       "    .dataframe tbody tr th:only-of-type {\n",
       "        vertical-align: middle;\n",
       "    }\n",
       "\n",
       "    .dataframe tbody tr th {\n",
       "        vertical-align: top;\n",
       "    }\n",
       "\n",
       "    .dataframe thead th {\n",
       "        text-align: right;\n",
       "    }\n",
       "</style>\n",
       "<table border=\"1\" class=\"dataframe\">\n",
       "  <thead>\n",
       "    <tr style=\"text-align: right;\">\n",
       "      <th></th>\n",
       "      <th>Story</th>\n",
       "      <th>OutputCase</th>\n",
       "      <th>Direction</th>\n",
       "      <th>Max Drift</th>\n",
       "      <th>Avg Drift</th>\n",
       "      <th>Ratio</th>\n",
       "      <th>Height</th>\n",
       "      <th>Drifts</th>\n",
       "      <th>Drift &lt; Dmax/2</th>\n",
       "      <th>tor_reg</th>\n",
       "    </tr>\n",
       "  </thead>\n",
       "  <tbody>\n",
       "    <tr>\n",
       "      <th>0</th>\n",
<<<<<<< HEAD
       "      <td>Story8</td>\n",
       "      <td>Sx Max</td>\n",
       "      <td>X</td>\n",
       "      <td>3.536</td>\n",
       "      <td>3.073</td>\n",
       "      <td>1.151</td>\n",
       "      <td>2500</td>\n",
       "      <td>0.003246</td>\n",
       "      <td>True</td>\n",
=======
       "      <td>Story3</td>\n",
       "      <td>NaN</td>\n",
       "      <td>X</td>\n",
       "      <td>4.506</td>\n",
       "      <td>4.149</td>\n",
       "      <td>1.086</td>\n",
       "      <td>3600</td>\n",
       "      <td>0.006571</td>\n",
       "      <td>False</td>\n",
>>>>>>> dev
       "      <td>Regular</td>\n",
       "    </tr>\n",
       "    <tr>\n",
       "      <th>1</th>\n",
<<<<<<< HEAD
       "      <td>Story8</td>\n",
       "      <td>Sx Min</td>\n",
       "      <td>X</td>\n",
       "      <td>3.013</td>\n",
       "      <td>2.589</td>\n",
       "      <td>1.163</td>\n",
       "      <td>2500</td>\n",
       "      <td>0.002766</td>\n",
=======
       "      <td>Story3</td>\n",
       "      <td>NaN</td>\n",
       "      <td>Y</td>\n",
       "      <td>1.968</td>\n",
       "      <td>1.916</td>\n",
       "      <td>1.027</td>\n",
       "      <td>3600</td>\n",
       "      <td>0.002870</td>\n",
>>>>>>> dev
       "      <td>True</td>\n",
       "      <td>Regular</td>\n",
       "    </tr>\n",
       "    <tr>\n",
       "      <th>2</th>\n",
<<<<<<< HEAD
       "      <td>Story8</td>\n",
       "      <td>Sy Max</td>\n",
       "      <td>X</td>\n",
       "      <td>0.46</td>\n",
       "      <td>0.107</td>\n",
       "      <td>4.305</td>\n",
       "      <td>2500</td>\n",
       "      <td>0.000422</td>\n",
       "      <td>True</td>\n",
=======
       "      <td>Story3</td>\n",
       "      <td>SDx Max</td>\n",
       "      <td>X</td>\n",
       "      <td>4.028</td>\n",
       "      <td>3.867</td>\n",
       "      <td>1.042</td>\n",
       "      <td>3600</td>\n",
       "      <td>0.005874</td>\n",
       "      <td>False</td>\n",
>>>>>>> dev
       "      <td>Regular</td>\n",
       "    </tr>\n",
       "    <tr>\n",
       "      <th>3</th>\n",
<<<<<<< HEAD
       "      <td>Story8</td>\n",
       "      <td>Sy Max</td>\n",
       "      <td>Y</td>\n",
       "      <td>0.671</td>\n",
       "      <td>0.564</td>\n",
       "      <td>1.19</td>\n",
       "      <td>2500</td>\n",
       "      <td>0.000616</td>\n",
=======
       "      <td>Story3</td>\n",
       "      <td>SDx Max</td>\n",
       "      <td>Y</td>\n",
       "      <td>0.643</td>\n",
       "      <td>0.622</td>\n",
       "      <td>1.034</td>\n",
       "      <td>3600</td>\n",
       "      <td>0.000938</td>\n",
>>>>>>> dev
       "      <td>True</td>\n",
       "      <td>Regular</td>\n",
       "    </tr>\n",
       "    <tr>\n",
       "      <th>4</th>\n",
<<<<<<< HEAD
       "      <td>Story8</td>\n",
       "      <td>Sy Min</td>\n",
       "      <td>X</td>\n",
       "      <td>0.399</td>\n",
       "      <td>0.078</td>\n",
       "      <td>5.118</td>\n",
       "      <td>2500</td>\n",
       "      <td>0.000366</td>\n",
=======
       "      <td>Story3</td>\n",
       "      <td>SDy Max</td>\n",
       "      <td>X</td>\n",
       "      <td>1.227</td>\n",
       "      <td>1.17</td>\n",
       "      <td>1.049</td>\n",
       "      <td>3600</td>\n",
       "      <td>0.001789</td>\n",
>>>>>>> dev
       "      <td>True</td>\n",
       "      <td>Regular</td>\n",
       "    </tr>\n",
       "    <tr>\n",
       "      <th>...</th>\n",
       "      <td>...</td>\n",
       "      <td>...</td>\n",
       "      <td>...</td>\n",
       "      <td>...</td>\n",
       "      <td>...</td>\n",
       "      <td>...</td>\n",
       "      <td>...</td>\n",
       "      <td>...</td>\n",
       "      <td>...</td>\n",
       "      <td>...</td>\n",
       "    </tr>\n",
       "    <tr>\n",
<<<<<<< HEAD
       "      <th>76</th>\n",
       "      <td>NT</td>\n",
       "      <td>Sy Min</td>\n",
       "      <td>Y</td>\n",
       "      <td>0.029</td>\n",
       "      <td>0.001</td>\n",
       "      <td>40.601</td>\n",
       "      <td>1750</td>\n",
       "      <td>0.000038</td>\n",
=======
       "      <th>253</th>\n",
       "      <td>Story1</td>\n",
       "      <td>R19 Min</td>\n",
       "      <td>Y</td>\n",
       "      <td>2.352</td>\n",
       "      <td>2.343</td>\n",
       "      <td>1.004</td>\n",
       "      <td>5000</td>\n",
       "      <td>0.002470</td>\n",
>>>>>>> dev
       "      <td>True</td>\n",
       "      <td>Regular</td>\n",
       "    </tr>\n",
       "    <tr>\n",
<<<<<<< HEAD
       "      <th>77</th>\n",
       "      <td>NT</td>\n",
       "      <td>SDx Max</td>\n",
       "      <td>X</td>\n",
       "      <td>0.24</td>\n",
       "      <td>0.12</td>\n",
       "      <td>2</td>\n",
       "      <td>1750</td>\n",
       "      <td>0.000315</td>\n",
       "      <td>True</td>\n",
       "      <td>Regular</td>\n",
       "    </tr>\n",
       "    <tr>\n",
       "      <th>78</th>\n",
       "      <td>NT</td>\n",
       "      <td>SDx Max</td>\n",
       "      <td>Y</td>\n",
       "      <td>0.028</td>\n",
       "      <td>0.014</td>\n",
       "      <td>2</td>\n",
       "      <td>1750</td>\n",
       "      <td>0.000037</td>\n",
=======
       "      <th>254</th>\n",
       "      <td>Story1</td>\n",
       "      <td>ER Max</td>\n",
       "      <td>X</td>\n",
       "      <td>4.891</td>\n",
       "      <td>4.72</td>\n",
       "      <td>1.036</td>\n",
       "      <td>5000</td>\n",
       "      <td>0.005136</td>\n",
       "      <td>False</td>\n",
       "      <td>Regular</td>\n",
       "    </tr>\n",
       "    <tr>\n",
       "      <th>255</th>\n",
       "      <td>Story1</td>\n",
       "      <td>ER Max</td>\n",
       "      <td>Y</td>\n",
       "      <td>2.361</td>\n",
       "      <td>2.349</td>\n",
       "      <td>1.005</td>\n",
       "      <td>5000</td>\n",
       "      <td>0.002479</td>\n",
>>>>>>> dev
       "      <td>True</td>\n",
       "      <td>Regular</td>\n",
       "    </tr>\n",
       "    <tr>\n",
<<<<<<< HEAD
       "      <th>79</th>\n",
       "      <td>NT</td>\n",
       "      <td>SDy Max</td>\n",
       "      <td>X</td>\n",
       "      <td>0.033</td>\n",
       "      <td>0.016</td>\n",
       "      <td>2</td>\n",
       "      <td>1750</td>\n",
       "      <td>0.000043</td>\n",
       "      <td>True</td>\n",
       "      <td>Regular</td>\n",
       "    </tr>\n",
       "    <tr>\n",
       "      <th>80</th>\n",
       "      <td>NT</td>\n",
       "      <td>SDy Max</td>\n",
       "      <td>Y</td>\n",
       "      <td>0.027</td>\n",
       "      <td>0.013</td>\n",
       "      <td>2</td>\n",
       "      <td>1750</td>\n",
       "      <td>0.000035</td>\n",
=======
       "      <th>256</th>\n",
       "      <td>Story1</td>\n",
       "      <td>ER Min</td>\n",
       "      <td>X</td>\n",
       "      <td>4.881</td>\n",
       "      <td>4.716</td>\n",
       "      <td>1.035</td>\n",
       "      <td>5000</td>\n",
       "      <td>0.005125</td>\n",
       "      <td>False</td>\n",
       "      <td>Regular</td>\n",
       "    </tr>\n",
       "    <tr>\n",
       "      <th>257</th>\n",
       "      <td>Story1</td>\n",
       "      <td>ER Min</td>\n",
       "      <td>Y</td>\n",
       "      <td>2.365</td>\n",
       "      <td>2.356</td>\n",
       "      <td>1.004</td>\n",
       "      <td>5000</td>\n",
       "      <td>0.002483</td>\n",
>>>>>>> dev
       "      <td>True</td>\n",
       "      <td>Regular</td>\n",
       "    </tr>\n",
       "  </tbody>\n",
       "</table>\n",
<<<<<<< HEAD
       "<p>81 rows × 10 columns</p>\n",
       "</div>"
      ],
      "text/plain": [
       "     Story OutputCase Direction Max Drift Avg Drift   Ratio Height    Drifts  \\\n",
       "0   Story8     Sx Max         X     3.536     3.073   1.151   2500  0.003246   \n",
       "1   Story8     Sx Min         X     3.013     2.589   1.163   2500  0.002766   \n",
       "2   Story8     Sy Max         X      0.46     0.107   4.305   2500  0.000422   \n",
       "3   Story8     Sy Max         Y     0.671     0.564    1.19   2500  0.000616   \n",
       "4   Story8     Sy Min         X     0.399     0.078   5.118   2500  0.000366   \n",
       "..     ...        ...       ...       ...       ...     ...    ...       ...   \n",
       "76      NT     Sy Min         Y     0.029     0.001  40.601   1750  0.000038   \n",
       "77      NT    SDx Max         X      0.24      0.12       2   1750  0.000315   \n",
       "78      NT    SDx Max         Y     0.028     0.014       2   1750  0.000037   \n",
       "79      NT    SDy Max         X     0.033     0.016       2   1750  0.000043   \n",
       "80      NT    SDy Max         Y     0.027     0.013       2   1750  0.000035   \n",
       "\n",
       "    Drift < Dmax/2  tor_reg  \n",
       "0             True  Regular  \n",
       "1             True  Regular  \n",
       "2             True  Regular  \n",
       "3             True  Regular  \n",
       "4             True  Regular  \n",
       "..             ...      ...  \n",
       "76            True  Regular  \n",
       "77            True  Regular  \n",
       "78            True  Regular  \n",
       "79            True  Regular  \n",
       "80            True  Regular  \n",
       "\n",
       "[81 rows x 10 columns]"
=======
       "<p>258 rows × 10 columns</p>\n",
       "</div>"
      ],
      "text/plain": [
       "      Story OutputCase Direction Max Drift Avg Drift  Ratio Height    Drifts  \\\n",
       "0    Story3        NaN         X     4.506     4.149  1.086   3600  0.006571   \n",
       "1    Story3        NaN         Y     1.968     1.916  1.027   3600  0.002870   \n",
       "2    Story3    SDx Max         X     4.028     3.867  1.042   3600  0.005874   \n",
       "3    Story3    SDx Max         Y     0.643     0.622  1.034   3600  0.000938   \n",
       "4    Story3    SDy Max         X     1.227      1.17  1.049   3600  0.001789   \n",
       "..      ...        ...       ...       ...       ...    ...    ...       ...   \n",
       "253  Story1    R19 Min         Y     2.352     2.343  1.004   5000  0.002470   \n",
       "254  Story1     ER Max         X     4.891      4.72  1.036   5000  0.005136   \n",
       "255  Story1     ER Max         Y     2.361     2.349  1.005   5000  0.002479   \n",
       "256  Story1     ER Min         X     4.881     4.716  1.035   5000  0.005125   \n",
       "257  Story1     ER Min         Y     2.365     2.356  1.004   5000  0.002483   \n",
       "\n",
       "     Drift < Dmax/2  tor_reg  \n",
       "0             False  Regular  \n",
       "1              True  Regular  \n",
       "2             False  Regular  \n",
       "3              True  Regular  \n",
       "4              True  Regular  \n",
       "..              ...      ...  \n",
       "253            True  Regular  \n",
       "254           False  Regular  \n",
       "255            True  Regular  \n",
       "256           False  Regular  \n",
       "257            True  Regular  \n",
       "\n",
       "[258 rows x 10 columns]"
>>>>>>> dev
      ]
     },
     "metadata": {},
     "output_type": "display_data"
    }
   ],
   "source": [
    "sis.show_table(sismo.torsion_table)"
   ]
  },
  {
   "cell_type": "markdown",
   "metadata": {},
   "source": [
    "## Derivas"
   ]
  },
  {
   "cell_type": "code",
<<<<<<< HEAD
   "execution_count": 19,
=======
   "execution_count": 44,
>>>>>>> dev
   "metadata": {},
   "outputs": [
    {
     "data": {
      "application/vnd.jupyter.widget-view+json": {
<<<<<<< HEAD
       "model_id": "6909d00d17e647ac8f0f211ce0b80e89",
=======
       "model_id": "3a97029c60cd4fcb86eff16926c83bf5",
>>>>>>> dev
       "version_major": 2,
       "version_minor": 0
      },
      "text/plain": [
<<<<<<< HEAD
       "Dropdown(description='Filtro', index=6, options=('Sx Max', 'Sx Min', 'Sy Max', 'Sy Min', 'SDx Max', 'SDy Max',…"
=======
       "Dropdown(description='Filtro', index=39, options=(nan, 'SDx Max', 'SDy Max', 'Derivas Max', 'Derivas Min', 'R2…"
>>>>>>> dev
      ]
     },
     "metadata": {},
     "output_type": "display_data"
    },
    {
     "data": {
      "text/html": [
       "<div>\n",
       "<style scoped>\n",
       "    .dataframe tbody tr th:only-of-type {\n",
       "        vertical-align: middle;\n",
       "    }\n",
       "\n",
       "    .dataframe tbody tr th {\n",
       "        vertical-align: top;\n",
       "    }\n",
       "\n",
       "    .dataframe thead th {\n",
       "        text-align: right;\n",
       "    }\n",
       "</style>\n",
       "<table border=\"1\" class=\"dataframe\">\n",
       "  <thead>\n",
       "    <tr style=\"text-align: right;\">\n",
       "      <th></th>\n",
       "      <th>Story</th>\n",
       "      <th>OutputCase</th>\n",
       "      <th>Direction</th>\n",
       "      <th>Drifts</th>\n",
       "      <th>Drift_Check</th>\n",
       "    </tr>\n",
       "  </thead>\n",
       "  <tbody>\n",
       "    <tr>\n",
       "      <th>0</th>\n",
<<<<<<< HEAD
       "      <td>Story8</td>\n",
       "      <td>Sx Max</td>\n",
       "      <td>X</td>\n",
       "      <td>0.003246</td>\n",
=======
       "      <td>Story3</td>\n",
       "      <td>NaN</td>\n",
       "      <td>X</td>\n",
       "      <td>0.006571</td>\n",
>>>>>>> dev
       "      <td>Cumple</td>\n",
       "    </tr>\n",
       "    <tr>\n",
       "      <th>1</th>\n",
<<<<<<< HEAD
       "      <td>Story8</td>\n",
       "      <td>Sx Min</td>\n",
       "      <td>X</td>\n",
       "      <td>0.002766</td>\n",
=======
       "      <td>Story3</td>\n",
       "      <td>NaN</td>\n",
       "      <td>Y</td>\n",
       "      <td>0.002870</td>\n",
>>>>>>> dev
       "      <td>Cumple</td>\n",
       "    </tr>\n",
       "    <tr>\n",
       "      <th>2</th>\n",
<<<<<<< HEAD
       "      <td>Story8</td>\n",
       "      <td>Sy Max</td>\n",
       "      <td>X</td>\n",
       "      <td>0.000422</td>\n",
=======
       "      <td>Story3</td>\n",
       "      <td>SDx Max</td>\n",
       "      <td>X</td>\n",
       "      <td>0.005874</td>\n",
>>>>>>> dev
       "      <td>Cumple</td>\n",
       "    </tr>\n",
       "    <tr>\n",
       "      <th>3</th>\n",
<<<<<<< HEAD
       "      <td>Story8</td>\n",
       "      <td>Sy Max</td>\n",
       "      <td>Y</td>\n",
       "      <td>0.000616</td>\n",
=======
       "      <td>Story3</td>\n",
       "      <td>SDx Max</td>\n",
       "      <td>Y</td>\n",
       "      <td>0.000938</td>\n",
>>>>>>> dev
       "      <td>Cumple</td>\n",
       "    </tr>\n",
       "    <tr>\n",
       "      <th>4</th>\n",
<<<<<<< HEAD
       "      <td>Story8</td>\n",
       "      <td>Sy Min</td>\n",
       "      <td>X</td>\n",
       "      <td>0.000366</td>\n",
=======
       "      <td>Story3</td>\n",
       "      <td>SDy Max</td>\n",
       "      <td>X</td>\n",
       "      <td>0.001789</td>\n",
>>>>>>> dev
       "      <td>Cumple</td>\n",
       "    </tr>\n",
       "    <tr>\n",
       "      <th>...</th>\n",
       "      <td>...</td>\n",
       "      <td>...</td>\n",
       "      <td>...</td>\n",
       "      <td>...</td>\n",
       "      <td>...</td>\n",
       "    </tr>\n",
       "    <tr>\n",
<<<<<<< HEAD
       "      <th>76</th>\n",
       "      <td>NT</td>\n",
       "      <td>Sy Min</td>\n",
       "      <td>Y</td>\n",
       "      <td>0.000038</td>\n",
       "      <td>Cumple</td>\n",
       "    </tr>\n",
       "    <tr>\n",
       "      <th>77</th>\n",
       "      <td>NT</td>\n",
       "      <td>SDx Max</td>\n",
       "      <td>X</td>\n",
       "      <td>0.000315</td>\n",
       "      <td>Cumple</td>\n",
       "    </tr>\n",
       "    <tr>\n",
       "      <th>78</th>\n",
       "      <td>NT</td>\n",
       "      <td>SDx Max</td>\n",
       "      <td>Y</td>\n",
       "      <td>0.000037</td>\n",
       "      <td>Cumple</td>\n",
       "    </tr>\n",
       "    <tr>\n",
       "      <th>79</th>\n",
       "      <td>NT</td>\n",
       "      <td>SDy Max</td>\n",
       "      <td>X</td>\n",
       "      <td>0.000043</td>\n",
       "      <td>Cumple</td>\n",
       "    </tr>\n",
       "    <tr>\n",
       "      <th>80</th>\n",
       "      <td>NT</td>\n",
       "      <td>SDy Max</td>\n",
       "      <td>Y</td>\n",
       "      <td>0.000035</td>\n",
=======
       "      <th>253</th>\n",
       "      <td>Story1</td>\n",
       "      <td>R19 Min</td>\n",
       "      <td>Y</td>\n",
       "      <td>0.002470</td>\n",
       "      <td>Cumple</td>\n",
       "    </tr>\n",
       "    <tr>\n",
       "      <th>254</th>\n",
       "      <td>Story1</td>\n",
       "      <td>ER Max</td>\n",
       "      <td>X</td>\n",
       "      <td>0.005136</td>\n",
       "      <td>Cumple</td>\n",
       "    </tr>\n",
       "    <tr>\n",
       "      <th>255</th>\n",
       "      <td>Story1</td>\n",
       "      <td>ER Max</td>\n",
       "      <td>Y</td>\n",
       "      <td>0.002479</td>\n",
       "      <td>Cumple</td>\n",
       "    </tr>\n",
       "    <tr>\n",
       "      <th>256</th>\n",
       "      <td>Story1</td>\n",
       "      <td>ER Min</td>\n",
       "      <td>X</td>\n",
       "      <td>0.005125</td>\n",
       "      <td>Cumple</td>\n",
       "    </tr>\n",
       "    <tr>\n",
       "      <th>257</th>\n",
       "      <td>Story1</td>\n",
       "      <td>ER Min</td>\n",
       "      <td>Y</td>\n",
       "      <td>0.002483</td>\n",
>>>>>>> dev
       "      <td>Cumple</td>\n",
       "    </tr>\n",
       "  </tbody>\n",
       "</table>\n",
<<<<<<< HEAD
       "<p>81 rows × 5 columns</p>\n",
       "</div>"
      ],
      "text/plain": [
       "     Story OutputCase Direction    Drifts Drift_Check\n",
       "0   Story8     Sx Max         X  0.003246      Cumple\n",
       "1   Story8     Sx Min         X  0.002766      Cumple\n",
       "2   Story8     Sy Max         X  0.000422      Cumple\n",
       "3   Story8     Sy Max         Y  0.000616      Cumple\n",
       "4   Story8     Sy Min         X  0.000366      Cumple\n",
       "..     ...        ...       ...       ...         ...\n",
       "76      NT     Sy Min         Y  0.000038      Cumple\n",
       "77      NT    SDx Max         X  0.000315      Cumple\n",
       "78      NT    SDx Max         Y  0.000037      Cumple\n",
       "79      NT    SDy Max         X  0.000043      Cumple\n",
       "80      NT    SDy Max         Y  0.000035      Cumple\n",
       "\n",
       "[81 rows x 5 columns]"
=======
       "<p>258 rows × 5 columns</p>\n",
       "</div>"
      ],
      "text/plain": [
       "      Story OutputCase Direction    Drifts Drift_Check\n",
       "0    Story3        NaN         X  0.006571      Cumple\n",
       "1    Story3        NaN         Y  0.002870      Cumple\n",
       "2    Story3    SDx Max         X  0.005874      Cumple\n",
       "3    Story3    SDx Max         Y  0.000938      Cumple\n",
       "4    Story3    SDy Max         X  0.001789      Cumple\n",
       "..      ...        ...       ...       ...         ...\n",
       "253  Story1    R19 Min         Y  0.002470      Cumple\n",
       "254  Story1     ER Max         X  0.005136      Cumple\n",
       "255  Story1     ER Max         Y  0.002479      Cumple\n",
       "256  Story1     ER Min         X  0.005125      Cumple\n",
       "257  Story1     ER Min         Y  0.002483      Cumple\n",
       "\n",
       "[258 rows x 5 columns]"
>>>>>>> dev
      ]
     },
     "metadata": {},
     "output_type": "display_data"
    }
   ],
   "source": [
    "sis.show_table(sismo.drift_table)"
   ]
  },
  {
   "cell_type": "markdown",
   "metadata": {},
   "source": [
    "# Fuerza Cortante Mínima"
   ]
  },
  {
   "cell_type": "code",
<<<<<<< HEAD
   "execution_count": 20,
=======
   "execution_count": 45,
>>>>>>> dev
   "metadata": {},
   "outputs": [
    {
     "data": {
      "text/html": [
       "<style type=\"text/css\">\n",
       "</style>\n",
<<<<<<< HEAD
       "<table id=\"T_60f20\">\n",
=======
       "<table id=\"T_acfc3\">\n",
>>>>>>> dev
       "  <thead>\n",
       "  </thead>\n",
       "  <tbody>\n",
       "    <tr>\n",
<<<<<<< HEAD
       "      <td id=\"T_60f20_row0_col0\" class=\"data row0 col0\" ></td>\n",
       "      <td id=\"T_60f20_row0_col1\" class=\"data row0 col1\" >X</td>\n",
       "      <td id=\"T_60f20_row0_col2\" class=\"data row0 col2\" >Y</td>\n",
       "    </tr>\n",
       "    <tr>\n",
       "      <td id=\"T_60f20_row1_col0\" class=\"data row1 col0\" >V din (Ton)</td>\n",
       "      <td id=\"T_60f20_row1_col1\" class=\"data row1 col1\" >50.889600</td>\n",
       "      <td id=\"T_60f20_row1_col2\" class=\"data row1 col2\" >65.187100</td>\n",
       "    </tr>\n",
       "    <tr>\n",
       "      <td id=\"T_60f20_row2_col0\" class=\"data row2 col0\" >V est (Ton)</td>\n",
       "      <td id=\"T_60f20_row2_col1\" class=\"data row2 col1\" >-61.300700</td>\n",
       "      <td id=\"T_60f20_row2_col2\" class=\"data row2 col2\" >-73.041000</td>\n",
       "    </tr>\n",
       "    <tr>\n",
       "      <td id=\"T_60f20_row3_col0\" class=\"data row3 col0\" >% min</td>\n",
       "      <td id=\"T_60f20_row3_col1\" class=\"data row3 col1\" >90</td>\n",
       "      <td id=\"T_60f20_row3_col2\" class=\"data row3 col2\" >90</td>\n",
       "    </tr>\n",
       "    <tr>\n",
       "      <td id=\"T_60f20_row4_col0\" class=\"data row4 col0\" >%</td>\n",
       "      <td id=\"T_60f20_row4_col1\" class=\"data row4 col1\" >83.020000</td>\n",
       "      <td id=\"T_60f20_row4_col2\" class=\"data row4 col2\" >89.250000</td>\n",
       "    </tr>\n",
       "    <tr>\n",
       "      <td id=\"T_60f20_row5_col0\" class=\"data row5 col0\" >F.E.</td>\n",
       "      <td id=\"T_60f20_row5_col1\" class=\"data row5 col1\" >1.080000</td>\n",
       "      <td id=\"T_60f20_row5_col2\" class=\"data row5 col2\" >1.010000</td>\n",
=======
       "      <td id=\"T_acfc3_row0_col0\" class=\"data row0 col0\" ></td>\n",
       "      <td id=\"T_acfc3_row0_col1\" class=\"data row0 col1\" >X</td>\n",
       "      <td id=\"T_acfc3_row0_col2\" class=\"data row0 col2\" >Y</td>\n",
       "    </tr>\n",
       "    <tr>\n",
       "      <td id=\"T_acfc3_row1_col0\" class=\"data row1 col0\" >V din (Ton)</td>\n",
       "      <td id=\"T_acfc3_row1_col1\" class=\"data row1 col1\" >95.208500</td>\n",
       "      <td id=\"T_acfc3_row1_col2\" class=\"data row1 col2\" >82.237300</td>\n",
       "    </tr>\n",
       "    <tr>\n",
       "      <td id=\"T_acfc3_row2_col0\" class=\"data row2 col0\" >V est (Ton)</td>\n",
       "      <td id=\"T_acfc3_row2_col1\" class=\"data row2 col1\" >-109.036400</td>\n",
       "      <td id=\"T_acfc3_row2_col2\" class=\"data row2 col2\" >-93.454500</td>\n",
       "    </tr>\n",
       "    <tr>\n",
       "      <td id=\"T_acfc3_row3_col0\" class=\"data row3 col0\" >% min</td>\n",
       "      <td id=\"T_acfc3_row3_col1\" class=\"data row3 col1\" >80</td>\n",
       "      <td id=\"T_acfc3_row3_col2\" class=\"data row3 col2\" >80</td>\n",
       "    </tr>\n",
       "    <tr>\n",
       "      <td id=\"T_acfc3_row4_col0\" class=\"data row4 col0\" >%</td>\n",
       "      <td id=\"T_acfc3_row4_col1\" class=\"data row4 col1\" >87.320000</td>\n",
       "      <td id=\"T_acfc3_row4_col2\" class=\"data row4 col2\" >88.000000</td>\n",
       "    </tr>\n",
       "    <tr>\n",
       "      <td id=\"T_acfc3_row5_col0\" class=\"data row5 col0\" >F.E.</td>\n",
       "      <td id=\"T_acfc3_row5_col1\" class=\"data row5 col1\" >1</td>\n",
       "      <td id=\"T_acfc3_row5_col2\" class=\"data row5 col2\" >1</td>\n",
>>>>>>> dev
       "    </tr>\n",
       "  </tbody>\n",
       "</table>\n"
      ],
      "text/plain": [
<<<<<<< HEAD
       "<pandas.io.formats.style.Styler at 0x23ae48c7160>"
      ]
     },
     "execution_count": 20,
=======
       "<pandas.io.formats.style.Styler at 0x25a719d4280>"
      ]
     },
     "execution_count": 45,
>>>>>>> dev
     "metadata": {},
     "output_type": "execute_result"
    }
   ],
   "source": [
    "sismo.shear_table.style.hide(axis='index').hide(axis='columns')"
   ]
  }
 ],
 "metadata": {
  "kernelspec": {
   "display_name": "structures",
   "language": "python",
   "name": "python3"
  },
  "language_info": {
   "codemirror_mode": {
    "name": "ipython",
    "version": 3
   },
   "file_extension": ".py",
   "mimetype": "text/x-python",
   "name": "python",
   "nbconvert_exporter": "python",
   "pygments_lexer": "ipython3",
   "version": "3.9.16"
  },
  "toc-showmarkdowntxt": true,
  "vscode": {
   "interpreter": {
    "hash": "bac46d45b902eb1257731b3cec425c94a9ada4fac09ba91d7557c516a1f31c36"
   }
  }
 },
 "nbformat": 4,
 "nbformat_minor": 4
}
<<<<<<< HEAD
=======
{
 "cells": [
  {
   "cell_type": "markdown",
   "metadata": {},
   "source": [
    "# Análisis Sísmico"
   ]
  },
  {
   "cell_type": "code",
   "execution_count": 6,
   "metadata": {},
   "outputs": [
    {
     "name": "stdout",
     "output_type": "stream",
     "text": [
      "The autoreload extension is already loaded. To reload it, use:\n",
      "  %reload_ext autoreload\n"
     ]
    }
   ],
   "source": [
    "#Importar las librerías necesarias\n",
    "%load_ext autoreload\n",
    "%autoreload 2\n",
    "import os\n",
    "import sys\n",
    "sys.path.append(os.getcwd()+'\\\\..')\n",
    "from lib import etabs_utils as etb\n",
    "from lib import sismo_utils as sis\n",
    "#from mem import sismo_mem as smem\n",
    "from ipywidgets import widgets\n",
    "from IPython.display import display"
   ]
  },
  {
   "cell_type": "code",
   "execution_count": 11,
   "metadata": {},
   "outputs": [],
   "source": [
    "_,SapModel = etb.connect_to_etabs()"
   ]
  },
  {
   "cell_type": "code",
   "execution_count": 16,
   "metadata": {},
   "outputs": [
    {
     "data": {
      "text/plain": [
       "(('Case',\n",
       "  'Mode',\n",
       "  'Period',\n",
       "  'UX',\n",
       "  'UY',\n",
       "  'UZ',\n",
       "  'SumUX',\n",
       "  'SumUY',\n",
       "  'SumUZ',\n",
       "  'RX',\n",
       "  'RY',\n",
       "  'RZ',\n",
       "  'SumRX',\n",
       "  'SumRY',\n",
       "  'SumRZ'),\n",
       "      Case Mode Period         UX         UY UZ   SumUX   SumUY SumUZ  \\\n",
       " 0   Modal    1  0.644     0.6906      0.001  0  0.6906   0.001     0   \n",
       " 1   Modal    2  0.451     0.0156     0.0172  0  0.7062  0.0182     0   \n",
       " 2   Modal    3  0.218     0.0003     0.6536  0  0.7065  0.6719     0   \n",
       " 3   Modal    4  0.176     0.1312     0.0006  0  0.8377  0.6725     0   \n",
       " 4   Modal    5   0.13     0.0012     0.0012  0  0.8388  0.6737     0   \n",
       " 5   Modal    6  0.122     0.0022     0.0013  0   0.841   0.675     0   \n",
       " 6   Modal    7    0.1     0.0004     0.0029  0  0.8414  0.6779     0   \n",
       " 7   Modal    8  0.087     0.0195     0.0001  0  0.8609   0.678     0   \n",
       " 8   Modal    9  0.076     0.0336  6.606E-06  0  0.8945   0.678     0   \n",
       " 9   Modal   10  0.064     0.0008  2.184E-05  0  0.8953   0.678     0   \n",
       " 10  Modal   11  0.054     0.0003     0.0005  0  0.8957  0.6785     0   \n",
       " 11  Modal   12   0.05      0.001     0.0561  0  0.8967  0.7346     0   \n",
       " 12  Modal   13   0.05     0.0012      0.123  0  0.8978  0.8576     0   \n",
       " 13  Modal   14  0.049     0.0075     0.0001  0  0.9053  0.8578     0   \n",
       " 14  Modal   15  0.046     0.0187  3.659E-05  0  0.9241  0.8578     0   \n",
       " 15  Modal   16  0.042   9.23E-06  6.875E-07  0  0.9241  0.8578     0   \n",
       " 16  Modal   17  0.037  4.527E-05  1.239E-06  0  0.9241  0.8578     0   \n",
       " 17  Modal   18  0.035     0.0005     0.0001  0  0.9246  0.8579     0   \n",
       " 18  Modal   19  0.034     0.0007  4.201E-05  0  0.9253   0.858     0   \n",
       " 19  Modal   20  0.033     0.0059     0.0002  0  0.9312  0.8581     0   \n",
       " 20  Modal   21  0.032     0.0036  7.295E-07  0  0.9348  0.8581     0   \n",
       " 21  Modal   22  0.031     0.0062     0.0001  0   0.941  0.8582     0   \n",
       " 22  Modal   23  0.026     0.0039  1.899E-05  0  0.9449  0.8582     0   \n",
       " 23  Modal   24  0.024     0.0063  4.295E-05  0  0.9513  0.8583     0   \n",
       " \n",
       "            RX         RY         RZ   SumRX   SumRY   SumRZ  \n",
       " 0      0.0006     0.4011     0.0111  0.0006  0.4011  0.0111  \n",
       " 1       0.011     0.0096     0.6635  0.0116  0.4107  0.6746  \n",
       " 2      0.4338  7.584E-06      0.018  0.4455  0.4107  0.6926  \n",
       " 3      0.0001     0.2725     0.0022  0.4456  0.6832  0.6948  \n",
       " 4   1.543E-05     0.0023     0.0169  0.4456  0.6855  0.7117  \n",
       " 5      0.0031     0.0037        0.1  0.4487  0.6892  0.8116  \n",
       " 6      0.0037     0.0008     0.0299  0.4524    0.69  0.8415  \n",
       " 7      0.0001     0.0265     0.0068  0.4525  0.7164  0.8483  \n",
       " 8     5.2E-06     0.0491  3.177E-05  0.4525  0.7655  0.8483  \n",
       " 9   3.131E-05     0.0021     0.0019  0.4525  0.7676  0.8502  \n",
       " 10     0.0005     0.0007     0.0488   0.453  0.7683   0.899  \n",
       " 11     0.0781      0.002     0.0011  0.5311  0.7703  0.9001  \n",
       " 12     0.1722     0.0022     0.0006  0.7033  0.7725  0.9007  \n",
       " 13     0.0002     0.0173     0.0004  0.7035  0.7898  0.9011  \n",
       " 14  4.677E-05     0.0376     0.0018  0.7035  0.8275  0.9029  \n",
       " 15  9.154E-07  7.998E-06     0.0002  0.7035  0.8275  0.9031  \n",
       " 16  2.482E-06     0.0001     0.0004  0.7035  0.8275  0.9035  \n",
       " 17     0.0002      0.001     0.0204  0.7038  0.8286  0.9239  \n",
       " 18     0.0001     0.0014      0.002  0.7039    0.83  0.9259  \n",
       " 19     0.0004     0.0122     0.0007  0.7042  0.8422  0.9266  \n",
       " 20          0     0.0072  2.517E-05  0.7042  0.8494  0.9266  \n",
       " 21     0.0001     0.0121     0.0022  0.7043  0.8616  0.9288  \n",
       " 22  4.789E-05     0.0087     0.0082  0.7044  0.8702  0.9369  \n",
       " 23     0.0001      0.014     0.0001  0.7045  0.8842  0.9371  )"
      ]
     },
     "execution_count": 16,
     "metadata": {},
     "output_type": "execute_result"
    }
   ],
   "source": [
    "etb.get_table(SapModel,'Modal Participating Mass Ratios')"
   ]
  },
  {
   "cell_type": "code",
   "execution_count": null,
   "metadata": {},
   "outputs": [],
   "source": [
    "SapModel.Analyze.RunAnalysis();\n",
    "sismo = sis.sismo_e30()"
   ]
  },
  {
   "cell_type": "markdown",
   "metadata": {},
   "source": [
    "# Parámetros de Sitio\n",
    "\n",
    "## Zonificación\n",
    "![Factor de Zonifiación](./factor_zona.png)"
   ]
  },
  {
   "cell_type": "markdown",
   "metadata": {},
   "source": [
    "## Factor de Suelo\n",
    "![Factor de Suelo](./factor_suelo.png)\n"
   ]
  },
  {
   "cell_type": "markdown",
   "metadata": {},
   "source": [
    "## Periodos del suelo\n",
    "![Periodos del Suelo](./periodos_suelo.png)"
   ]
  },
  {
   "cell_type": "markdown",
   "metadata": {},
   "source": [
    "## Sistema Estructural\n",
    "![Sistema Estructural](./sistemas_estructurales.png)"
   ]
  },
  {
   "cell_type": "markdown",
   "metadata": {},
   "source": [
    "## Factor de Amplificación sísmica\n",
    "![Factor de Amplificacion Sísmica](./amplificacion_sismica.png)"
   ]
  },
  {
   "cell_type": "markdown",
   "metadata": {},
   "source": [
    "## Factor de Importancia\n",
    "![Factor de Importancia](./factor_importancia.png)"
   ]
  },
  {
   "cell_type": "code",
   "execution_count": null,
   "metadata": {},
   "outputs": [],
   "source": [
    "sismo.parametros_e30()"
   ]
  },
  {
   "cell_type": "markdown",
   "metadata": {},
   "source": [
    "# Irregularidades"
   ]
  },
  {
   "cell_type": "code",
   "execution_count": null,
   "metadata": {},
   "outputs": [],
   "source": [
    "sismo.irregularidades_e30()"
   ]
  },
  {
   "cell_type": "markdown",
   "metadata": {},
   "source": [
    "# Parámetros Sísmicos"
   ]
  },
  {
   "cell_type": "code",
   "execution_count": null,
   "metadata": {},
   "outputs": [],
   "source": [
    "sismo.show_params()"
   ]
  },
  {
   "cell_type": "code",
   "execution_count": null,
   "metadata": {},
   "outputs": [],
   "source": [
    "sismo.analisis_sismo(SapModel)"
   ]
  },
  {
   "cell_type": "markdown",
   "metadata": {},
   "source": [
    "## Revisión por Piso Blando"
   ]
  },
  {
   "cell_type": "code",
   "execution_count": null,
   "metadata": {},
   "outputs": [],
   "source": [
    "sis.show_table(sismo.piso_blando_table)"
   ]
  },
  {
   "cell_type": "markdown",
   "metadata": {},
   "source": [
    "## Revisión por Irregularidad de Masa"
   ]
  },
  {
   "cell_type": "code",
   "execution_count": null,
   "metadata": {},
   "outputs": [],
   "source": [
    "sismo.rev_masa_table"
   ]
  },
  {
   "cell_type": "markdown",
   "metadata": {},
   "source": [
    "## Revisión de torsión"
   ]
  },
  {
   "cell_type": "code",
   "execution_count": null,
   "metadata": {},
   "outputs": [],
   "source": [
    "sis.show_table(sismo.torsion_table)"
   ]
  },
  {
   "cell_type": "markdown",
   "metadata": {},
   "source": [
    "## Derivas"
   ]
  },
  {
   "cell_type": "code",
   "execution_count": null,
   "metadata": {},
   "outputs": [],
   "source": [
    "sis.show_table(sismo.drift_table)"
   ]
  },
  {
   "cell_type": "markdown",
   "metadata": {},
   "source": [
    "# Fuerza Cortante Mínima"
   ]
  },
  {
   "cell_type": "code",
   "execution_count": null,
   "metadata": {},
   "outputs": [],
   "source": [
    "sismo.shear_table.style.hide(axis='index').hide(axis='columns')"
   ]
  },
  {
   "cell_type": "code",
   "execution_count": null,
   "metadata": {},
   "outputs": [],
   "source": [
    "from mem import sismo_mem as smem\n",
    "zona = 2\n",
    "suelo = 'S2'\n",
    "categoria = sismo.data['Factor de Importancia']\n",
    "\n",
    "ins = r'''Esto mostrará una lista de los commits en el repositorio, comenzando con el commit más reciente.\n",
    "Cada commit estará identificado por una cadena de caracteres larga y hexadecimal que aparece en la\n",
    "línea que comien\n",
    "'''\n",
    "\n",
    "section = smem.Section('Análsis Sísmico')\n",
    "smem.factor_zona(section,zona,o_type=smem.Subsection,insert=ins)\n",
    "geometry_options = { \"left\": \"2.5cm\", \"top\": \"1.5cm\" }\n",
    "section.append('Esto mostrará una lista de los commits en el repositorio, comenzando con el commit más reciente. Cada commit estará identificado por una cadena de caracteres larga y hexadecimal que aparece en la línea que comienz')\n",
    "doc = smem.Document(geometry_options=geometry_options)\n",
    "doc.packages.append(smem.Package('xcolor', options=['dvipsnames']))\n",
    "doc.append(section)\n",
    "doc.generate_pdf('Memoria')"
   ]
  },
  {
   "cell_type": "code",
   "execution_count": null,
   "metadata": {},
   "outputs": [],
   "source": [
    "doc.generate_tex('Memoria')"
   ]
  },
  {
   "cell_type": "code",
   "execution_count": null,
   "metadata": {},
   "outputs": [],
   "source": [
    "zona = 3\n",
    "suelo = 'S0'\n",
    "section = smem.Section('Análsis Sísmico')\n",
    "subsection = smem.Subsection('Parámetros de Sitio')\n",
    "smem.factor_zona(subsection,zona,insert=ins)\n",
    "smem.factor_suelo(subsection,zona,suelo)\n",
    "geometry_options = { \"left\": \"2.5cm\", \"top\": \"1.5cm\" }\n",
    "section.append('Esto mostrará una lista de los commits en el repositorio, comenzando con el commit más reciente. Cada commit estará identificado por una cadena de caracteres larga y hexadecimal que aparece en la línea que comienz')\n",
    "doc = smem.Document(geometry_options=geometry_options)\n",
    "doc.packages.append(smem.Package('xcolor', options=['dvipsnames']))\n",
    "section.append(subsection)\n",
    "doc.append(section)\n",
    "tabla = sismo.torsion_table\n",
    "sis_x = tabla[tabla['OutputCase']=='SDx Max']\n",
    "sis_y = tabla[tabla['OutputCase']=='SDy Max']\n",
    "sis_y = sis_y[sis_y['Direction']=='Y']\n",
    "section2 = smem.Section('Irregularidades')\n",
    "smem.irreg_torsion(section2,sis_x,sis_y)\n",
    "doc.append(section2)\n",
    "doc.generate_pdf('Memoria')"
   ]
  },
  {
   "cell_type": "code",
   "execution_count": null,
   "metadata": {},
   "outputs": [],
   "source": [
    "tabla = sismo.torsion_table"
   ]
  },
  {
   "cell_type": "code",
   "execution_count": null,
   "metadata": {},
   "outputs": [],
   "source": [
    "tabla"
   ]
  }
 ],
 "metadata": {
  "kernelspec": {
   "display_name": "Python 3 (ipykernel)",
   "language": "python",
   "name": "python3"
  },
  "language_info": {
   "codemirror_mode": {
    "name": "ipython",
    "version": 3
   },
   "file_extension": ".py",
   "mimetype": "text/x-python",
   "name": "python",
   "nbconvert_exporter": "python",
   "pygments_lexer": "ipython3",
   "version": "3.9.16"
  },
  "toc-showmarkdowntxt": true,
  "vscode": {
   "interpreter": {
    "hash": "5791b4287b5ec7fadd801eb3f0a157326fdd5e3bd9c95da2aac047fef93499ff"
   }
  }
 },
 "nbformat": 4,
 "nbformat_minor": 4
}

=======
>>>>>>> dev
