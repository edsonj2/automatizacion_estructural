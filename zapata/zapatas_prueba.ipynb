{
 "cells": [
  {
   "cell_type": "code",
   "execution_count": 1,
   "id": "b02f2b44",
   "metadata": {},
   "outputs": [],
   "source": [
    "from pylatex import Document, Section, Subsection,Subsubsection\n",
    "from pylatex import Tabular, Table, MultiColumn\n",
    "from pylatex.utils import NoEscape, bold\n",
    "from pylatex.package import Package\n",
    "from tkinter.filedialog import askopenfilename\n",
    "import shutil\n",
    "import re"
   ]
  },
  {
   "cell_type": "code",
   "execution_count": 2,
   "id": "3e2de113",
   "metadata": {},
   "outputs": [],
   "source": [
    "def copy_image(url):\n",
    "    archivo_seleccionado = askopenfilename()\n",
    "    shutil.copy(archivo_seleccionado, 'out/' + url)"
   ]
  },
  {
   "cell_type": "code",
   "execution_count": 38,
   "id": "fe3f02b0",
   "metadata": {},
   "outputs": [],
   "source": [
    "def set_variables(var_dict,text):\n",
    "    var = {}\n",
    "    for key in var_dict.keys():\n",
    "        value = var_dict[key][0]\n",
    "        unit = var_dict[key][1]\n",
    "        var[key] = str(value.to(unit).magnitude)\n",
    "    return replace_with_dict(text, var)"
   ]
  },
  {
   "cell_type": "code",
   "execution_count": 4,
   "id": "e61d628e",
   "metadata": {},
   "outputs": [],
   "source": [
    "def replace_with_dict(text, replacements):\n",
    "    pattern = re.compile(\"|\".join(map(re.escape, replacements.keys())))\n",
    "    return pattern.sub(lambda match: replacements[match.group(0)], text)"
   ]
  },
  {
   "cell_type": "code",
   "execution_count": 5,
   "id": "4333091b",
   "metadata": {},
   "outputs": [
    {
     "data": {
      "text/plain": [
       "17"
      ]
     },
     "execution_count": 5,
     "metadata": {},
     "output_type": "execute_result"
    }
   ],
   "source": [
    "geometry_options = { \"left\": \"2.5cm\", \"top\": \"1.5cm\" }\n",
    "doc = Document(geometry_options=geometry_options)\n",
    "doc.packages.append(Package('xcolor', options=['dvipsnames']))\n",
    "doc.packages.append(Package('graphicx'))\n",
    "doc.packages.append(Package('xargs'))\n",
    "doc.packages.append(Package('subfigure'))\n",
    "doc.packages.append(Package('array'))\n",
    "doc.packages.append(Package('multicol'))\n",
    "doc.packages.append(Package('multirow'))\n",
    "doc.packages.append(Package('fp'))\n",
    "doc.packages.append(Package('xcolor'))\n",
    "doc.packages.append(Package('booktabs'))\n",
    "doc.packages.append(Package('amsmath'))"
   ]
  },
  {
   "cell_type": "code",
   "execution_count": 6,
   "id": "8e0e195d",
   "metadata": {},
   "outputs": [],
   "source": [
    "# archivo = open('ecuaciones.tex','r',encoding='utf-8')\n",
    "# ecuaciones = archivo.read()\n",
    "# archivo.close()\n",
    "# doc.append(NoEscape(ecuaciones))"
   ]
  },
  {
   "cell_type": "code",
   "execution_count": 6,
   "id": "166dfc48",
   "metadata": {},
   "outputs": [],
   "source": [
    "from memoria import ecuaciones, introduccion\n",
    "doc.append(NoEscape(ecuaciones))\n",
    "doc.append(NoEscape(introduccion))"
   ]
  },
  {
   "cell_type": "code",
   "execution_count": 7,
   "id": "4e4d57c6",
   "metadata": {},
   "outputs": [],
   "source": [
    "from memoria import ecuaciones"
   ]
  },
  {
   "cell_type": "code",
   "execution_count": 9,
   "id": "a11ef725",
   "metadata": {},
   "outputs": [],
   "source": [
    "#copy_image('dimensiones.png')"
   ]
  },
  {
   "cell_type": "code",
   "execution_count": 8,
   "id": "3fad80c2",
   "metadata": {},
   "outputs": [],
   "source": [
    "from memoria import presiones, req_min\n",
    "doc.append(NoEscape(presiones))\n",
    "doc.append(NoEscape(req_min))"
   ]
  },
  {
   "cell_type": "code",
   "execution_count": 9,
   "id": "d5dbecce",
   "metadata": {},
   "outputs": [],
   "source": [
    "#Uso de variables\n",
    "import pint\n",
    "ureg = pint.UnitRegistry()\n",
    "m = ureg('m')\n",
    "cm = ureg('cm')\n",
    "kgf = ureg('kgf')\n",
    "ureg.define('tonf=1000*kgf')\n",
    "tonf = ureg('tonf')"
   ]
  },
  {
   "cell_type": "code",
   "execution_count": 10,
   "id": "9da339d0",
   "metadata": {},
   "outputs": [],
   "source": [
    "sec = Section('Diseño de la Cimentación')\n",
    "subsec = Subsection('Diseño de Zapata Aislada')"
   ]
  },
  {
   "cell_type": "code",
   "execution_count": 28,
   "id": "25733ecb",
   "metadata": {},
   "outputs": [
    {
     "data": {
      "text/plain": [
       "'\\n.\\n.\\n.\\n'"
      ]
     },
     "execution_count": 28,
     "metadata": {},
     "output_type": "execute_result"
    }
   ],
   "source": [
    "#Dimensiones de la columna:\n",
    "b_col = 60*cm\n",
    "h_col = 90*cm\n",
    "'''\n",
    ".\n",
    ".\n",
    ".\n",
    "'''"
   ]
  },
  {
   "attachments": {
    "image.png": {
     "image/png": "[encoded data removed]"
    }
   },
   "cell_type": "markdown",
   "id": "9052b6d3",
   "metadata": {},
   "source": [
    "![image.png](attachment:image.png)"
   ]
  },
  {
   "cell_type": "code",
   "execution_count": 29,
   "id": "ff7b61a9",
   "metadata": {},
   "outputs": [
    {
     "data": {
      "text/html": [
       "0.93 force_kilogram/centimeter<sup>2</sup>"
      ],
      "text/latex": [
       "$0.93\\ \\frac{\\mathrm{force\\_kilogram}}{\\mathrm{centimeter}^{2}}$"
      ],
      "text/plain": [
       "0.93 <Unit('force_kilogram / centimeter ** 2')>"
      ]
     },
     "execution_count": 29,
     "metadata": {},
     "output_type": "execute_result"
    }
   ],
   "source": [
    "#Capacidad Portante del terreno\n",
    "σt = 1.2*kgf/cm**2\n",
    "hz = 10*cm\n",
    "γc = 2400*kgf/m**3\n",
    "γm = 1400*kgf/m**3\n",
    "hs = 100*cm\n",
    "hp = 40*cm\n",
    "SCpiso = 100*kgf/m**2\n",
    "σsn = σt - γc*hz - γm*hs - γc*hp - SCpiso\n",
    "σsn"
   ]
  },
  {
   "cell_type": "code",
   "execution_count": 35,
   "id": "98fad09f",
   "metadata": {},
   "outputs": [],
   "source": [
    "variables = {\n",
    "    'var_sigma_t':(σt,'kgf/cm**2'),\n",
    "    'var_gamma_c':(γc,'kgf/m**3'),\n",
    "    'var_hz':(hz,'m'),\n",
    "    'var_gamma_m':(γm,'kgf/m**3'),\n",
    "    'var_hs':(hs,'m'),\n",
    "    'var_hp':(hp,'m'),\n",
    "    'var_SC':(SCpiso,'kgf/m**2'),\n",
    "    'var_sigmas':(σsn,'kgf/cm**2')\n",
    "}"
   ]
  },
  {
   "cell_type": "code",
   "execution_count": 36,
   "id": "a8148287",
   "metadata": {},
   "outputs": [],
   "source": [
    "text = r'''\\subsubsection{Capacidad portante neta del terreno}\n",
    "\n",
    "        El concepto de capacidad portante neta que es la capacidad del terreno reducida por efecto de la sobrecarga, el peso del suelo y el peso de la zapata. La capacidad portante neta es igual a:\n",
    "        \\begin{align}\n",
    "            \\sigma_{sn} =&\\qn \\\\\n",
    "            \\sigma_{sn} =&\\qn[var_sigma_t][var_gamma_c][var_hz][var_gamma_m][var_hs][var_hp][var_SC]\\\\\n",
    "            \\sigma_{sn} =& var_sigmas%\n",
    "        \\end{align}\n",
    "\n",
    "        \\textbf{Donde:}\n",
    "\n",
    "        \\begin{table}[h!]\n",
    "            \\centering\n",
    "            \\begin{tabular}{lll}\n",
    "                $\\sigma_{sn}$ &=&    Capacidad portante neta.\\\\\n",
    "                $\\sigma_t$ &=&   Carga admisible del terreno.\\\\\n",
    "                $\\gamma_c$ &=&    Peso específico del concreto\\\\\n",
    "                $h_s$ &=&   Altura del suelo sobre la zapata.\\\\\n",
    "            \\end{tabular}\n",
    "        \\end{table}\n",
    "        '''"
   ]
  },
  {
   "cell_type": "code",
   "execution_count": 39,
   "id": "b7687817",
   "metadata": {},
   "outputs": [],
   "source": [
    "cap_portante = set_variables(variables,text)"
   ]
  },
  {
   "cell_type": "code",
   "execution_count": 42,
   "id": "fcb59d60",
   "metadata": {},
   "outputs": [],
   "source": [
    "doc.append(NoEscape(cap_portante))\n",
    "doc.generate_tex()"
   ]
  },
  {
   "cell_type": "code",
   "execution_count": null,
   "id": "5f41ac40",
   "metadata": {},
   "outputs": [],
   "source": [
    "def factor_suelo(zona,suelo,obj=Subsubsection):\n",
    "    obj = obj('Factor de suelo')\n",
    "    obj.packages.append(Package('array'))\n",
    "    obj.packages.append(Package('colortbl'))\n",
    "    obj.packages.append(Package('graphicx'))\n",
    "    obj.packages.append(Package('caption'))\n",
    "    obj.packages.append(Package('slashbox'))\n",
    "    \n",
    "    suelo_ind = {'S0':1,'S1':2,'S2':3,'S3':4}\n",
    "    data = [['4','0.80','1.00','1.05','1.10'],\n",
    "            ['3','0.80','1.00','1.15','1.20'],\n",
    "            ['2','0.80','1.00','1.20','1.40'],\n",
    "            ['1','0.80','1.00','1.60','2.00']]\n",
    "    data[4-zona][suelo_ind[suelo]] = r'\\textcolor[rgb]{ 1,  0,  0}{\\textbf{'+data[4-zona][suelo_ind[suelo]] +r'}}'\n",
    "    data[4-zona] = [i+r'\\cellcolor[rgb]{ .949,  .949,  .949} ' for i in data[4-zona]]\n",
    "    data = [[j+r'\\cellcolor[rgb]{ .949,  .949,  .949} ' if i ==suelo_ind[suelo] else j for i,j in enumerate(row)]  for row in data]\n",
    "    \n",
    "    obj.append(NoEscape(r'Este factor se interpreta como  un factor de modificación de la aceleración pico del suelo para un perfil determinado respecto al pefil tipo S1'))\n",
    "    \n",
    "    with obj.create(Table(position='ht!')) as tab:\n",
    "        tab.append(NoEscape(r'\\centering'))\n",
    "        tab.append(NoEscape(r'\\caption{Factor de suelo}'))\n",
    "        with obj.create(Tabular(r'|>{\\centering\\arraybackslash}m{3.75cm}|>{\\centering\\arraybackslash}m{2cm}|>{\\centering\\arraybackslash}m{2cm}|>{\\centering\\arraybackslash}m{2cm}|>{\\centering\\arraybackslash}m{2cm}|')) as table:\n",
    "            table.add_hline()\n",
    "            table.add_row((MultiColumn(5, align='|c|', data=bold('FACTOR DE SUELO SEGÚN E-030')),))\n",
    "            table.add_hline() \n",
    "            table.add_row(NoEscape(r'\\backslashbox{\\textit{\\textbf{ZONA}}}{\\textit{\\textbf{SUELO}}}'),bold('S0'),bold('S1'),bold('S2'),bold('S3'))\n",
    "            table.add_hline()\n",
    "            for row in data:\n",
    "                table.add_row([NoEscape(i) for i in row])\n",
    "                table.add_hline()\n",
    "        tab.append(NoEscape(r'\\caption*{Fuente: E-030 (2018)}'))\n",
    "    return obj"
   ]
  },
  {
   "cell_type": "code",
   "execution_count": null,
   "id": "b339e0c3",
   "metadata": {},
   "outputs": [],
   "source": [
    "sec.append(subsec)\n",
    "doc.append(sec)\n",
    "#doc.append(NoEscape(var))\n",
    "doc.append(NoEscape(c_portante))\n",
    "doc.append(factor_suelo(1,'S0'))\n",
    "#doc.generate_pdf('out/mem_zapata')\n",
    "doc.generate_tex('out/mem_zapata')"
   ]
  },
  {
   "attachments": {
    "image.png": {
     "image/png": "[encoded data removed]"
    }
   },
   "cell_type": "markdown",
   "id": "158f034e",
   "metadata": {},
   "source": [
    "![image.png](attachment:image.png)"
   ]
  },
  {
   "cell_type": "code",
   "execution_count": null,
   "id": "4546f575",
   "metadata": {},
   "outputs": [],
   "source": [
    "import pandas as pd\n",
    "tabla_corte = pd.DataFrame([['','X','Y'],\n",
    "                           ['V din',233.214,220.22123],\n",
    "                           ['V din',233.214,220.22123],\n",
    "                           ['V din',233.214,220.22123],\n",
    "                           ['V din',233.214,220.22123]])"
   ]
  },
  {
   "cell_type": "code",
   "execution_count": null,
   "id": "455c1313",
   "metadata": {},
   "outputs": [],
   "source": [
    "def fuerza_cortante_min(tabla_corte_min,o_type=Subsection):\n",
    "    obj = o_type('Fuerza cortante mínima Art. 29.4 E-030')\n",
    "    obj.packages.append(Package('tcolorbox'))\n",
    "    obj.packages.append(Package('array'))\n",
    "    obj.packages.append(Package('booktabs'))\n",
    "      \n",
    "\n",
    "#     with obj.create(Figure(position='ht!')) as fig:\n",
    "#         fig.append(NoEscape('\\\\includegraphics[width=0.8\\\\textwidth]{images/cortantes}'))\n",
    "#         fig.add_caption('Cortantes de Entrepiso del Análisis Modal Espectral')\n",
    "#         fig.append(NoEscape(r'\\label{fig:corte_basal}'))\n",
    "\n",
    "    def latex_table(table):\n",
    "        table.columns = table.iloc[0]\n",
    "        table=table[1:]\n",
    "        for i in  ['X','Y']:\n",
    "            table.loc[:,i] = table.loc[:,i].astype(float)\n",
    "        table = table.style.hide(axis='index')\n",
    "        table = table.format('{:.2f}',subset=pd.IndexSlice[:,['X','Y']])\n",
    "        table = table.to_latex(hrules=True, column_format = 'c'*3).replace('%','\\%')\n",
    "        return table\n",
    "    obj.append(NoEscape('%insertion'))\n",
    "    \n",
    "    with obj.create(Table(position='H')) as table:\n",
    "        table.append(NoEscape('\\centering'))\n",
    "        table.append(NoEscape('\\caption{Escalamiento de la cortante dinámica}'))\n",
    "        table.append(NoEscape(latex_table(tabla_corte_min)))\n",
    "\n",
    "    return obj"
   ]
  },
  {
   "cell_type": "code",
   "execution_count": null,
   "id": "c60814fa",
   "metadata": {},
   "outputs": [],
   "source": [
    "fuerza_cortante_min(tabla_corte)"
   ]
  },
  {
   "cell_type": "code",
   "execution_count": null,
   "id": "8a69aea7",
   "metadata": {},
   "outputs": [],
   "source": [
    "import handcalcs.render\n"
   ]
  },
  {
   "cell_type": "code",
   "execution_count": null,
   "id": "4dd643ed",
   "metadata": {},
   "outputs": [],
   "source": [
    "%%render\n",
    "a = 5\n",
    "b = 3\n",
    "c = 8"
   ]
  },
  {
   "cell_type": "code",
   "execution_count": null,
   "id": "95dab879",
   "metadata": {},
   "outputs": [],
   "source": [
    "from math import sin, cos,pi"
   ]
  },
  {
   "cell_type": "code",
   "execution_count": null,
   "id": "1aeb9eb6",
   "metadata": {},
   "outputs": [],
   "source": [
    "%%render long 2\n",
    "x = a**2+sin(30)+b"
   ]
  },
  {
   "cell_type": "code",
   "execution_count": null,
   "id": "27af1c3e",
   "metadata": {},
   "outputs": [],
   "source": [
    "%%tex long 5\n",
    "phi = 5\n",
    "x = a**2+sin(30)+cos(pi)*phi"
   ]
  },
  {
   "cell_type": "markdown",
   "id": "baeed121",
   "metadata": {},
   "source": [
    "\\[\n",
    "\\begin{aligned}\n",
    "\\phi &= 5 \\; \n",
    "\\\\[10pt]\n",
    "x &= \\left( a \\right) ^{ 2 } + \\sin \\left( 30 \\right) + \\cos \\left( \\pi \\right) \\cdot \\phi \\\\&= \\left( 5 \\right) ^{ 2 } + \\sin \\left( 30 \\right) + \\cos \\left( 3.14159 \\right) \\cdot 5 \\\\&= 19.01197  \\\\[10pt]\n",
    "\\end{aligned}\n",
    "\\]"
   ]
  }
 ],
 "metadata": {
  "kernelspec": {
   "display_name": "Python 3 (ipykernel)",
   "language": "python",
   "name": "python3"
  },
  "language_info": {
   "codemirror_mode": {
    "name": "ipython",
    "version": 3
   },
   "file_extension": ".py",
   "mimetype": "text/x-python",
   "name": "python",
   "nbconvert_exporter": "python",
   "pygments_lexer": "ipython3",
   "version": "3.11.2"
  }
 },
 "nbformat": 4,
 "nbformat_minor": 5
}
