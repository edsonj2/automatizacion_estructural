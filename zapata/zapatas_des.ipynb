{
 "cells": [
  {
   "cell_type": "code",
   "execution_count": 145,
   "id": "5b73fa61",
   "metadata": {},
   "outputs": [
    {
     "name": "stdout",
     "output_type": "stream",
     "text": [
      "The autoreload extension is already loaded. To reload it, use:\n",
      "  %reload_ext autoreload\n"
     ]
    }
   ],
   "source": [
    "%load_ext autoreload\n",
    "%autoreload 2\n",
    "import numpy as np\n",
    "from pylatex import Document, Section, Subsection,Subsubsection\n",
    "from pylatex import Tabular, Table, MultiColumn\n",
    "from pylatex.utils import NoEscape, bold\n",
    "from pylatex.package import Package\n",
    "from pylatex.base_classes import Environment\n",
    "from tkinter.filedialog import askopenfilename\n",
    "import shutil\n",
    "import re"
   ]
  },
  {
   "cell_type": "code",
   "execution_count": 146,
   "id": "04f9fa2d",
   "metadata": {},
   "outputs": [],
   "source": [
    "import pint\n",
    "ureg = pint.UnitRegistry()\n",
    "N = ureg('N')\n",
    "m = ureg('m')\n",
    "mm = ureg('mm')\n",
    "cm = ureg('cm')\n",
    "Pa = ureg('Pa')\n",
    "MPa = ureg('MPa')\n",
    "pulg = ureg('in')\n",
    "kN = ureg('kN')\n",
    "kgf = ureg('kgf')\n",
    "ureg.define('tonf=1000*kgf')\n",
    "tonf = ureg('tonf')"
   ]
  },
  {
   "cell_type": "code",
   "execution_count": 147,
   "id": "72999e13",
   "metadata": {},
   "outputs": [],
   "source": [
    "#Datos de la columna:\n",
    "b_col=0.7*m\n",
    "h_col=0.3*m\n",
    "db_col = 5/8*pulg\n",
    "\n",
    "\n",
    "#Datos del suelo\n",
    "q_adm=3.0*kgf/cm**2 #presion admisible del suelo.\n",
    "γ_s = 1.8*tonf/m**3\n",
    "\n",
    "\n",
    "#Datos de la zapata\n",
    "h=0.6*m    #altura predefinida de la zapata.\n",
    "Df=1.8*m   #profundidad de desplante de la zapata. (desde el NTN al NFC).\n",
    "\n",
    "#Sobrecarga del piso\n",
    "h_p = 10*cm         #altura de piso terminado\n",
    "SC_p = 500*kgf/m**2 #sobrecarga del piso\n",
    "\n",
    "#Materiales\n",
    "fc = 210*kgf/cm**2\n",
    "fy = 4200*kgf/cm**2\n",
    "γ_c = 2.4*tonf/m**3\n",
    "\n"
   ]
  },
  {
   "cell_type": "code",
   "execution_count": 148,
   "id": "66b41558",
   "metadata": {},
   "outputs": [
    {
     "data": {
      "text/html": [
       "1.5875 centimeter"
      ],
      "text/latex": [
       "$1.5875\\ \\mathrm{centimeter}$"
      ],
      "text/plain": [
       "1.5875 <Unit('centimeter')>"
      ]
     },
     "execution_count": 148,
     "metadata": {},
     "output_type": "execute_result"
    }
   ],
   "source": [
    "db_col.to('cm')"
   ]
  },
  {
   "cell_type": "code",
   "execution_count": 149,
   "id": "cbb17749",
   "metadata": {},
   "outputs": [],
   "source": [
    "var_dict = dict(\n",
    "    var_bcol = (b_col,'m','m'),\n",
    "    var_hcol = (h_col,'m','m'),\n",
    "    var_dbcol = (db_col,'in','\"'),\n",
    "    var_dbc_cm = (db_col, 'cm','cm'),\n",
    "    var_Df = (Df,'m','m'),\n",
    "    var_fc = (fc,'kgf/cm**2',r'kgf/cm^2'),\n",
    "    var_fy = (fy,'kgf/cm**2',r'kgf/cm^2'),\n",
    "    var_gamma_s = (γ_s,'tonf/m**3',r'tonf/m^3'),\n",
    "    var_gamma_c = (γ_c,'tonf/m**3',r'tonf/m^3'),\n",
    "    var_SCp = (SC_p,'kgf/m**2',r'tonf/m^3'),\n",
    "    var_hp = (h_p,'m','m'),\n",
    "    var_sigma_s = (b_col,'m','m')\n",
    ")"
   ]
  },
  {
   "cell_type": "code",
   "execution_count": 162,
   "id": "74c9fd46",
   "metadata": {},
   "outputs": [],
   "source": [
    "## CÁLCULOS\n",
    "# Longitud de desarrollo\n",
    "ld1 = 0.08*db_col.to('cm')*fy/((fc/(kgf/cm**2))**0.5*(kgf/cm**2))\n",
    "ld2 = 0.004*db_col.to('cm')*fy/(kgf/cm**2)\n",
    "d = max(ld1,ld2)\n",
    "hz = d+0.1*m\n",
    "\n",
    "# Presión de servicio\n",
    "P_servicio = 11000*kgf\n",
    "q_n = 1.5*kgf/cm**2\n",
    "\n",
    "# area tentativa de la zapata\n",
    "A_tentativa = P_servicio/q_n\n",
    "A_tentativa\n",
    "\n",
    "# Dimensiones de la zapata\n",
    "Long_zap_L = np.sqrt(A_tentativa) + (b_col + h_col) / 2\n",
    "Long_zap_B = np.sqrt(A_tentativa) - (b_col + h_col) / 2\n",
    "Area_total = Long_zap_L * Long_zap_B # área\n",
    "\n",
    "# Presiones en las esquinas de la zapata\n",
    "sigma1 = 1*kgf/cm**2\n",
    "sigma2 = 0.9*kgf/cm**2\n",
    "sigma3 = 1.5*kgf/cm**2\n",
    "sigma4 = 1.2*kgf/cm**2\n",
    "\n",
    "sigma_ultima = sigma3\n",
    "# Verificación de corte por punzonamiento\n",
    "secc_criticaP = 2*(b_col + d) + 2*(h_col + d)   # Sección crítica\n",
    "area_tributaP = (b_col + d) * (h_col + d)       # Área tributaria\n",
    "\n",
    "    # Cortante de diseño\n",
    "vu_punz = sigma_ultima*(Area_total - area_tributaP)\n",
    "\n",
    "    # Cortante último por punzonamiento\n",
    "vc_ultimP1 = 10*kgf/cm**2\n",
    "vc_ultimP2 = 9*kgf/cm**2\n",
    "vc_ultimP3 = 7*kgf/cm**2\n",
    "\n"
   ]
  },
  {
   "cell_type": "code",
   "execution_count": 164,
   "id": "975f137f",
   "metadata": {},
   "outputs": [
    {
     "data": {
      "text/html": [
       "-33.866957260715104 kilonewton"
      ],
      "text/latex": [
       "$-33.866957260715104\\ \\mathrm{kilonewton}$"
      ],
      "text/plain": [
       "-33.866957260715104 <Unit('kilonewton')>"
      ]
     },
     "execution_count": 164,
     "metadata": {},
     "output_type": "execute_result"
    }
   ],
   "source": [
    "vu_punz.to('kN')"
   ]
  },
  {
   "cell_type": "code",
   "execution_count": null,
   "id": "294343f9",
   "metadata": {},
   "outputs": [],
   "source": []
  },
  {
   "cell_type": "code",
   "execution_count": 152,
   "id": "4ea75671",
   "metadata": {},
   "outputs": [
    {
     "data": {
      "text/html": [
       "733333.3333333333 millimeter<sup>2</sup>"
      ],
      "text/latex": [
       "$733333.3333333333\\ \\mathrm{millimeter}^{2}$"
      ],
      "text/plain": [
       "733333.3333333333 <Unit('millimeter ** 2')>"
      ]
     },
     "execution_count": 152,
     "metadata": {},
     "output_type": "execute_result"
    }
   ],
   "source": [
    "aa = P_servicio.to('N')\n",
    "bb = q_n.to('N/mm**2')\n",
    "cc = aa/bb\n",
    "cc.to('cm**2')\n",
    "cc"
   ]
  },
  {
   "cell_type": "code",
   "execution_count": 165,
   "id": "0dceeff8",
   "metadata": {},
   "outputs": [],
   "source": [
    "# Nuevo  diccionario\n",
    "var_dict.update(dict(\n",
    "var_ld1 = (ld1,'cm','cm'),\n",
    "var_ld2 = (ld2,'cm','cm'),\n",
    "var_ldes = (d,'cm','cm'),\n",
    "var_hz = (hz,'cm','cm'),\n",
    "var_P_servicio = (P_servicio,'N', 'N'),\n",
    "var_q_n = (q_n,'N/mm**2',r'N/mm^2'),\n",
    "var_A_tentativa = (A_tentativa,'mm**2',r'mm^2'),\n",
    "var_Long_zap_L = (Long_zap_L,'m','m'),\n",
    "var_Long_zap_B = (Long_zap_B,'m','m'),\n",
    "var_Area_total = (Area_total,'m**2', r'm^2'),\n",
    "var_sigma1 = (sigma1, 'MPa', 'MPa'),\n",
    "var_sigma2 = (sigma2, 'MPa', 'MPa'),\n",
    "var_sigma3 = (sigma3, 'MPa', 'MPa'),\n",
    "var_sigma4 = (sigma4, 'MPa', 'MPa'),\n",
    "var_sigmaUltima = (sigma_ultima,'MPa', 'MPa'),\n",
    "var_secc_criticaP = (secc_criticaP, 'm', 'm'),\n",
    "var_area_tributaP = (area_tributaP, 'm**2', r'm^2'),\n",
    "var_vu_punz = (vu_punz,'kN','kN'),\n",
    "vc_ultimP1 = (vc_ultimP1, 'MPa', MPa),\n",
    "vc_ultimP = (vc_ultimP2, 'MPa', MPa),\n",
    "vc_ultimP1 = (vc_ultimP3, 'MPa', MPa),\n",
    "))"
   ]
  },
  {
   "cell_type": "code",
   "execution_count": 166,
   "id": "696d2442",
   "metadata": {},
   "outputs": [
    {
     "name": "stdout",
     "output_type": "stream",
     "text": [
      "10.0 centimeter ** 2\n"
     ]
    }
   ],
   "source": [
    "# Definir la cantidad en mm²\n",
    "cantidad_en_mm2 = 1000 * ureg('mm^2')\n",
    "\n",
    "# Convertir la cantidad a cm²\n",
    "cantidad_en_cm2 = cantidad_en_mm2.to('cm^2')\n",
    "\n",
    "# Imprimir la cantidad en cm²\n",
    "print(cantidad_en_cm2)"
   ]
  },
  {
   "cell_type": "code",
   "execution_count": null,
   "id": "2a8249af",
   "metadata": {},
   "outputs": [],
   "source": []
  },
  {
   "cell_type": "code",
   "execution_count": null,
   "id": "8c65fd87",
   "metadata": {},
   "outputs": [],
   "source": []
  },
  {
   "cell_type": "code",
   "execution_count": 167,
   "id": "61ff149b",
   "metadata": {},
   "outputs": [],
   "source": [
    "import zapata_utils as zp\n",
    "cuerpo = zp.cuerpo\n",
    "cuerpo = zp.set_variablesUnit(var_dict,cuerpo)"
   ]
  },
  {
   "cell_type": "code",
   "execution_count": 168,
   "id": "ca6f97e9",
   "metadata": {},
   "outputs": [
    {
     "data": {
      "text/plain": [
       "7"
      ]
     },
     "execution_count": 168,
     "metadata": {},
     "output_type": "execute_result"
    }
   ],
   "source": [
    "geometry_options = { \"left\": \"2.5cm\", \"top\": \"1.5cm\" }\n",
    "doc = Document(geometry_options=geometry_options)\n",
    "doc.packages.append(NoEscape(zp.preambulo))"
   ]
  },
  {
   "cell_type": "code",
   "execution_count": 169,
   "id": "6ec3ff75",
   "metadata": {},
   "outputs": [],
   "source": [
    "doc.append(NoEscape(cuerpo))"
   ]
  },
  {
   "cell_type": "code",
   "execution_count": 170,
   "id": "7d17b2a4",
   "metadata": {},
   "outputs": [],
   "source": [
    "#doc.generate_tex('out2/memoriaZapata')\n",
    "# doc.generate_pdf('out2/memoriaZapata')"
   ]
  },
  {
   "cell_type": "code",
   "execution_count": null,
   "id": "023d8d96",
   "metadata": {},
   "outputs": [],
   "source": []
  }
 ],
 "metadata": {
  "kernelspec": {
   "display_name": "Python (myenv)",
   "language": "python",
   "name": "myenv"
  },
  "language_info": {
   "codemirror_mode": {
    "name": "ipython",
    "version": 3
   },
   "file_extension": ".py",
   "mimetype": "text/x-python",
   "name": "python",
   "nbconvert_exporter": "python",
   "pygments_lexer": "ipython3",
   "version": "3.8.8"
  }
 },
 "nbformat": 4,
 "nbformat_minor": 5
}
