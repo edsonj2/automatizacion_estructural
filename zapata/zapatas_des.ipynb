{
 "cells": [
  {
   "cell_type": "code",
   "execution_count": 7,
   "id": "5b73fa61",
   "metadata": {},
   "outputs": [
    {
     "name": "stdout",
     "output_type": "stream",
     "text": [
      "The autoreload extension is already loaded. To reload it, use:\n",
      "  %reload_ext autoreload\n"
     ]
    }
   ],
   "source": [
    "%load_ext autoreload\n",
    "%autoreload 2\n",
    "import numpy as np\n",
    "from pylatex import Document, Section, Subsection,Subsubsection\n",
    "from pylatex import Tabular, Table, MultiColumn\n",
    "from pylatex.utils import NoEscape, bold\n",
    "from pylatex.package import Package\n",
    "from pylatex.base_classes import Environment\n",
    "from tkinter.filedialog import askopenfilename\n",
    "import shutil\n",
    "import re"
   ]
  },
  {
   "cell_type": "code",
   "execution_count": 19,
   "id": "04f9fa2d",
   "metadata": {},
   "outputs": [],
   "source": [
    "import pint\n",
    "ureg = pint.UnitRegistry()\n",
    "N = ureg('N')\n",
    "m = ureg('m')\n",
    "cm = ureg('cm')\n",
    "Pa = ureg('Pa')\n",
    "MPa = ureg('MPa')\n",
    "pulg = ureg('in')\n",
    "kN = ureg('kN')\n",
    "kgf = ureg('kgf')\n",
    "ureg.define('tonf=1000*kgf')\n",
    "tonf = ureg('tonf')"
   ]
  },
  {
   "cell_type": "code",
   "execution_count": 45,
   "id": "72999e13",
   "metadata": {},
   "outputs": [],
   "source": [
    "#Datos de la columna:\n",
    "b_col=0.3*m\n",
    "h_col=0.7*m\n",
    "db_col = 5/8*pulg\n",
    "\n",
    "#Datos del suelo\n",
    "q_adm=3.0*kgf/cm**2 #presion admisible del suelo.\n",
    "γ_s = 1.8*tonf/m**3\n",
    "\n",
    "\n",
    "#Datos de la zapata\n",
    "h=0.6*m    #altura predefinida de la zapata.\n",
    "Df=1.8*m   #profundidad de desplante de la zapata. (desde el NTN al NFC).\n",
    "\n",
    "#Sobrecarga del piso\n",
    "h_p = 10*cm #altura de piso terminado\n",
    "SC_p = 500*kgf/m**2 #sobrecarga del piso\n",
    "\n",
    "#Materiales\n",
    "fc = 210*kgf/cm**2\n",
    "fy = 4200*kgf/cm**2\n",
    "γ_c = 2.4*tonf/m**3"
   ]
  },
  {
   "cell_type": "code",
   "execution_count": 124,
   "id": "cbb17749",
   "metadata": {},
   "outputs": [],
   "source": [
    "var_dict = dict(\n",
    "    var_bcol = (b_col,'m','m'),\n",
    "    var_hcol = (h_col,'m','m'),\n",
    "    var_dbcol = (db_col,'in','\"'),\n",
    "    var_Df = (Df,'m','m'),\n",
    "    var_fc = (fc,'kgf/cm**2',r'kgf/cm^2'),\n",
    "    var_fy = (fy,'kgf/cm**2',r'kgf/cm^2'),\n",
    "    var_gamma_s = (γ_s,'tonf/m**3',r'tonf/m^3'),\n",
    "    var_gamma_c = (γ_c,'tonf/m**3',r'tonf/m^3'),\n",
    "    var_SCp = (SC_p,'kgf/m**2',r'tonf/m^3'),\n",
    "    var_hp = (h_p,'m','m'),\n",
    "    var_sigma_s = (b_col,'m','m')\n",
    ")"
   ]
  },
  {
   "cell_type": "code",
   "execution_count": 117,
   "id": "74c9fd46",
   "metadata": {},
   "outputs": [],
   "source": [
    "ld1 = 0.08*db_col.to('cm')*fy/((fc/(kgf/cm**2))**0.5*(kgf/cm**2))\n",
    "ld2 = 0.004*db_col.to('cm')*fy/(kgf/cm**2)\n",
    "d = max(ld1,ld2)\n",
    "hz = d+0.1*m"
   ]
  },
  {
   "cell_type": "code",
   "execution_count": 141,
   "id": "0dceeff8",
   "metadata": {},
   "outputs": [],
   "source": [
    "var_dict.update(dict(\n",
    "var_ld1 = (ld1,'m','m'),\n",
    "var_ld2 = (ld2,'m','m'),\n",
    "var_ldes = (d,'m','m'),\n",
    "var_hz = (ld2,'m','m')\n",
    "))"
   ]
  },
  {
   "cell_type": "code",
   "execution_count": null,
   "id": "eaf50c2d",
   "metadata": {},
   "outputs": [],
   "source": [
    "#asfafsd\n"
   ]
  },
  {
   "cell_type": "code",
   "execution_count": null,
   "id": "696d2442",
   "metadata": {},
   "outputs": [],
   "source": []
  },
  {
   "cell_type": "code",
   "execution_count": null,
   "id": "def41cd8",
   "metadata": {},
   "outputs": [],
   "source": []
  },
  {
   "cell_type": "code",
   "execution_count": 142,
   "id": "61ff149b",
   "metadata": {},
   "outputs": [],
   "source": [
    "import zapata_utils as zp\n",
    "cuerpo = zp.cuerpo\n",
    "cuerpo = zp.set_variablesUnit(var_dict,cuerpo)"
   ]
  },
  {
   "cell_type": "code",
   "execution_count": 143,
   "id": "ca6f97e9",
   "metadata": {},
   "outputs": [
    {
     "data": {
      "text/plain": [
       "7"
      ]
     },
     "execution_count": 143,
     "metadata": {},
     "output_type": "execute_result"
    }
   ],
   "source": [
    "geometry_options = { \"left\": \"2.5cm\", \"top\": \"1.5cm\" }\n",
    "doc = Document(geometry_options=geometry_options)\n",
    "doc.packages.append(NoEscape(zp.preambulo))"
   ]
  },
  {
   "cell_type": "code",
   "execution_count": 144,
   "id": "6ec3ff75",
   "metadata": {},
   "outputs": [],
   "source": [
    "doc.append(NoEscape(cuerpo))"
   ]
  },
  {
   "cell_type": "code",
   "execution_count": 145,
   "id": "7d17b2a4",
   "metadata": {},
   "outputs": [],
   "source": [
    "doc.generate_tex('memoriaZapata')"
   ]
  }
 ],
 "metadata": {
  "kernelspec": {
   "display_name": "Python 3 (ipykernel)",
   "language": "python",
   "name": "python3"
  },
  "language_info": {
   "codemirror_mode": {
    "name": "ipython",
    "version": 3
   },
   "file_extension": ".py",
   "mimetype": "text/x-python",
   "name": "python",
   "nbconvert_exporter": "python",
   "pygments_lexer": "ipython3",
   "version": "3.11.2"
  }
 },
 "nbformat": 4,
 "nbformat_minor": 5
}
